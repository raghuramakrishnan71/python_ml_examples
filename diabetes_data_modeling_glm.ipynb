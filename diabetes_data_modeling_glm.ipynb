{
  "nbformat": 4,
  "nbformat_minor": 0,
  "metadata": {
    "colab": {
      "name": "diabetes_data_modeling_glm.ipynb",
      "provenance": [],
      "collapsed_sections": [],
      "include_colab_link": true
    },
    "kernelspec": {
      "name": "python3",
      "display_name": "Python 3"
    },
    "language_info": {
      "name": "python"
    }
  },
  "cells": [
    {
      "cell_type": "markdown",
      "metadata": {
        "id": "view-in-github",
        "colab_type": "text"
      },
      "source": [
        "<a href=\"https://colab.research.google.com/github/raghuramakrishnan71/python_ml_examples/blob/main/diabetes_data_modeling_glm.ipynb\" target=\"_parent\"><img src=\"https://colab.research.google.com/assets/colab-badge.svg\" alt=\"Open In Colab\"/></a>"
      ]
    },
    {
      "cell_type": "code",
      "metadata": {
        "colab": {
          "base_uri": "https://localhost:8080/"
        },
        "id": "6NReQVJGmgvR",
        "outputId": "b8ee9faf-a1ec-4095-bb0e-8278a2a87a8e"
      },
      "source": [
        "from google.colab import drive\n",
        "drive.mount('/content/drive')"
      ],
      "execution_count": 1,
      "outputs": [
        {
          "output_type": "stream",
          "name": "stdout",
          "text": [
            "Mounted at /content/drive\n"
          ]
        }
      ]
    },
    {
      "cell_type": "code",
      "metadata": {
        "id": "h7PgTb7DmmDf",
        "colab": {
          "base_uri": "https://localhost:8080/"
        },
        "outputId": "3dbe7ba5-c523-48c1-c6f1-42d4500179a8"
      },
      "source": [
        "################################# Required packages ############################\n",
        "# To work with dataframes\n",
        "import pandas as pd \n",
        "\n",
        "# To perform numerical operations\n",
        "import numpy as np\n",
        "\n",
        "# To draw graphs\n",
        "import matplotlib.pyplot as plt\n",
        "\n",
        "# To visualize data\n",
        "import seaborn as sns\n",
        "\n",
        "# importing the library of KNN\n",
        "from sklearn.neighbors import KNeighborsClassifier  \n",
        "\n",
        "# To partition the data\n",
        "from sklearn.model_selection import train_test_split\n",
        "\n",
        "# Importing performance metrics - accuracy score & confusion matrix\n",
        "from sklearn import metrics\n",
        "\n",
        "# To generate ROC curve\n",
        "from sklearn.metrics import roc_curve\n",
        "\n",
        "# To calculate AUC score\n",
        "from sklearn.metrics import roc_auc_score\n",
        "\n",
        "# importing library of binary classifier\n",
        "import statsmodels.api as sm\n",
        "\n",
        "# To calculate confusion matrix\n",
        "from sklearn.metrics import confusion_matrix\n",
        "\n",
        "# Complete sklearn\n",
        "import sklearn\n",
        "\n",
        "# Gradient boosting classifier\n",
        "from sklearn.ensemble import GradientBoostingClassifier\n",
        "\n",
        "# LinearDiscriminant analysis classifier\n",
        "from sklearn.discriminant_analysis import LinearDiscriminantAnalysis\n",
        "\n",
        "# Support vector machine classifier\n",
        "from sklearn import svm\n",
        "\n",
        "# To perform mathematical operations\n",
        "import math\n",
        "\n",
        "# To findout correlation\n",
        "from scipy.stats import kendalltau\n",
        "\n",
        "# binary classifier\n",
        "import statsmodels.api as sm"
      ],
      "execution_count": 2,
      "outputs": [
        {
          "output_type": "stream",
          "name": "stderr",
          "text": [
            "/usr/local/lib/python3.7/dist-packages/statsmodels/tools/_testing.py:19: FutureWarning: pandas.util.testing is deprecated. Use the functions in the public API at pandas.testing instead.\n",
            "  import pandas.util.testing as tm\n"
          ]
        }
      ]
    },
    {
      "cell_type": "code",
      "metadata": {
        "id": "-POOTM3UmpyG",
        "colab": {
          "base_uri": "https://localhost:8080/"
        },
        "outputId": "856abf99-5567-41d7-a02f-6eef1cdaba70"
      },
      "source": [
        "# path\n",
        "dataset_path = \"/content/drive/MyDrive/sample_datasets/\"\n",
        "\n",
        "# Reading data\n",
        "diabetes_df = pd.read_csv(dataset_path + \"diabetes_data.csv\")\n",
        "\n",
        "#**** To check variables' data type\n",
        "#print(df.info())\n",
        "\n",
        "#**** Check for missing values.            \n",
        "diabetes_df.isnull()          \n",
        "\n",
        "#**** How many rows contain missing values? \n",
        "#print('Data columns with null values:\\n', df.isnull().sum())\n",
        "\n",
        "diabetes_df_copy1 = diabetes_df.copy()\n",
        "\n",
        "# Storing the column names \n",
        "columns_list=list(diabetes_df_copy1.columns)\n",
        "print(columns_list)\n",
        "\n",
        "#drop unwanted columns\n",
        "diabetes_df_copy2 = diabetes_df_copy1.copy()\n",
        "#as_df_copy2 = as_df_copy1.drop(columns =['S__No_n', 'State', 'District', 'location', 'Lat', 'log', 'Tp_Slt', 'Source'], axis = 1)\n",
        "\n",
        "#create a categorical variable for Arsenic. If As < 10, then 1 else 0\n",
        "diabetes_df_copy2['Diabetes_cat'] = diabetes_df_copy2['Diabetes'].map({'Yes': 1, 'No': 0})\n",
        "\n",
        "print(diabetes_df_copy2.head(5))\n",
        "print('Shape of new dataframe (diabetes_df_copy2): ', diabetes_df_copy2.shape, type(diabetes_df_copy2))\n"
      ],
      "execution_count": 5,
      "outputs": [
        {
          "output_type": "stream",
          "name": "stdout",
          "text": [
            "['Blood Sugar Level', 'Diabetes']\n",
            "   Blood Sugar Level Diabetes  Diabetes_cat\n",
            "0                148      Yes             1\n",
            "1                 85       No             0\n",
            "2                183      Yes             1\n",
            "3                 89       No             0\n",
            "4                137      Yes             1\n",
            "Shape of new dataframe (diabetes_df_copy2):  (768, 3) <class 'pandas.core.frame.DataFrame'>\n"
          ]
        }
      ]
    },
    {
      "cell_type": "code",
      "metadata": {
        "colab": {
          "base_uri": "https://localhost:8080/"
        },
        "id": "NOjAphvrrXiM",
        "outputId": "3e9fcd60-0f04-43ae-dc8b-ea059c024a74"
      },
      "source": [
        "n = len(diabetes_df_copy2)\n",
        "print('Dataset size: ', n)\n",
        "\n",
        "sturges_m = 1 + 3.322 * math.log(n)\n",
        "rice_m = (n ** (1. / 3)) * 2\n",
        "\n",
        "print('Sturges bin size: ', math.floor(sturges_m))\n",
        "print('Rice bin size: ', rice_m)\n",
        "\n",
        "no_of_bins = math.floor(rice_m)\n",
        "print('No of bins: ', no_of_bins)"
      ],
      "execution_count": 6,
      "outputs": [
        {
          "output_type": "stream",
          "name": "stdout",
          "text": [
            "Dataset size:  768\n",
            "Sturges bin size:  23\n",
            "Rice bin size:  18.315427880853306\n",
            "No of bins:  18\n"
          ]
        }
      ]
    },
    {
      "cell_type": "code",
      "metadata": {
        "id": "9Ehl584wrcqY",
        "colab": {
          "base_uri": "https://localhost:8080/"
        },
        "outputId": "d1abd14d-b5ea-4320-9378-54561e391075"
      },
      "source": [
        "threshold = 10\n",
        "\n",
        "diabetes_df_copy3 = diabetes_df_copy2.copy()\n",
        "#df_copy3['india_geol'] = df_copy3['india_geol'].astype('category',copy=False)\n",
        "\n",
        "# Perform dummy encoding on the categorical columns of data\n",
        "#df_copy4 = pd.get_dummies(df_copy3)\n",
        "diabetes_df_copy4 = diabetes_df_copy3.copy()\n",
        "\n",
        "#**** To recheck variables' data type\n",
        "print(diabetes_df_copy4.info())\n",
        "\n",
        "print('Columns: ', diabetes_df_copy4.columns)"
      ],
      "execution_count": 7,
      "outputs": [
        {
          "output_type": "stream",
          "name": "stdout",
          "text": [
            "<class 'pandas.core.frame.DataFrame'>\n",
            "RangeIndex: 768 entries, 0 to 767\n",
            "Data columns (total 3 columns):\n",
            " #   Column             Non-Null Count  Dtype \n",
            "---  ------             --------------  ----- \n",
            " 0   Blood Sugar Level  768 non-null    int64 \n",
            " 1   Diabetes           768 non-null    object\n",
            " 2   Diabetes_cat       768 non-null    int64 \n",
            "dtypes: int64(2), object(1)\n",
            "memory usage: 18.1+ KB\n",
            "None\n",
            "Columns:  Index(['Blood Sugar Level', 'Diabetes', 'Diabetes_cat'], dtype='object')\n"
          ]
        }
      ]
    },
    {
      "cell_type": "markdown",
      "metadata": {
        "id": "-r2atOGJpaue"
      },
      "source": [
        "**Graphs**"
      ]
    },
    {
      "cell_type": "code",
      "metadata": {
        "id": "UY4BHb1spaM7",
        "colab": {
          "base_uri": "https://localhost:8080/"
        },
        "outputId": "42ec3c6c-6378-4c69-b55e-775313aa82f1"
      },
      "source": [
        "# Storing the output values in y\n",
        "\n",
        "#Diabetes\n",
        "diabetes = diabetes_df_copy3['Diabetes_cat'].values\n",
        "print('Diabetes_cat rows with null values: ', diabetes_df_copy3['Diabetes_cat'].isnull().sum())\n",
        "\n",
        "x = np.array(diabetes)\n",
        "print('Unique classes:', np.unique(x))"
      ],
      "execution_count": 8,
      "outputs": [
        {
          "output_type": "stream",
          "name": "stdout",
          "text": [
            "Diabetes_cat rows with null values:  0\n",
            "Unique classes: [0 1]\n"
          ]
        }
      ]
    },
    {
      "cell_type": "markdown",
      "metadata": {
        "id": "I9N8qfJc5YJa"
      },
      "source": [
        "**Split into training and test datasets**"
      ]
    },
    {
      "cell_type": "code",
      "metadata": {
        "colab": {
          "base_uri": "https://localhost:8080/"
        },
        "id": "aec8SP775dCT",
        "outputId": "74b88502-4ebc-4d71-c2ec-6ccb92a92622"
      },
      "source": [
        "# Storing the column names \n",
        "columns_list = list(diabetes_df_copy3.columns)\n",
        "print('List of columns:', columns_list)\n",
        "\n",
        "features=list(['Blood Sugar Level'])\n",
        "print('Features: ', features)\n",
        "\n",
        "# Storing the output values in y\n",
        "y = diabetes_df_copy3['Diabetes_cat'].values\n",
        "#print(y)\n",
        "\n",
        "# Storing the values from input features\n",
        "x = diabetes_df_copy3[features].values\n",
        "#print(x)\n",
        "\n",
        "# Splitting the data into train and test\n",
        "x_train, x_test, y_train, y_test = train_test_split(x, y, test_size=0.3, random_state=100)\n",
        "\n",
        "#x_train_reshaped = x_train.reshape(-1, 1) # reshape to a 1D array\n",
        "\n",
        "#x_test_reshaped = x_test.reshape(-1, 1) # reshape to a 1D array\n",
        "\n",
        "#print(\"x_train_reshaped shape:\", x_train_reshaped.shape, \" x_test_reshaped shape\", x_test_reshaped.shape)"
      ],
      "execution_count": 9,
      "outputs": [
        {
          "output_type": "stream",
          "name": "stdout",
          "text": [
            "List of columns: ['Blood Sugar Level', 'Diabetes', 'Diabetes_cat']\n",
            "Features:  ['Blood Sugar Level']\n"
          ]
        }
      ]
    },
    {
      "cell_type": "markdown",
      "metadata": {
        "id": "pwhX5NzZoV7e"
      },
      "source": [
        "**Build a binary classification model**\n",
        "\n",
        "References:\n",
        "\n",
        "1. https://www.analyticsvidhya.com/blog/2021/06/classification-problem-relation-between-sensitivity-specificity-and-accuracy/\n"
      ]
    },
    {
      "cell_type": "code",
      "metadata": {
        "id": "01dHcbHpoU3t",
        "colab": {
          "base_uri": "https://localhost:8080/"
        },
        "outputId": "4610f63a-2eeb-4c59-d297-7f6ec0ad7fa6"
      },
      "source": [
        "# =============================================================================\n",
        "# binary classification model\n",
        "# =============================================================================\n",
        "\n",
        "#check the version of sklearn\n",
        "print(sklearn.__version__)\n",
        "\n",
        "# define the model\n",
        "# parameters n_estimators, max_depth, learning_rate, max_features, \n",
        "x_train_sm = sm.add_constant(x_train)\n",
        "SM_classifier = sm.GLM(y_train, x_train_sm, family = sm.families.Binomial())\n",
        "\n",
        "print('y_train shape:', y_train.shape)\n",
        "print('x_train_sm shape:', x_train_sm.shape)\n",
        "\n",
        "# Fitting the values for X and Y\n",
        "res = SM_classifier.fit()\n",
        "print(res.summary())\n",
        "\n",
        "# Predicting the test values with model, the output is not y_predicted\n",
        "y_pred_prob = res.predict(x_train_sm)\n",
        "y_predicted = y_pred_prob.copy()\n",
        "\n",
        "# convert the probablities into classes\n",
        "for irow in range(len(y_pred_prob)):\n",
        "  if (y_pred_prob[irow] <= 0.5):\n",
        "    y_predicted[irow] = 0\n",
        "  else:\n",
        "    y_predicted[irow] = 1\n",
        "\n",
        "print('Classes predicted: ', np.unique(y_predicted))\n",
        "print('Total predictions: ', len(y_predicted))\n",
        "print('Actual count of diabetes=0 [0,2]: ', np.count_nonzero(y_test == 0), '| diabetes=1 [1,2]: ', np.count_nonzero(y_test == 1))\n",
        "print('Predicted count of diabetes=0 [2,0]: ', np.count_nonzero(y_predicted == 0), '| diabetes=0 [2,1]: ', np.count_nonzero(y_predicted == 1))\n",
        "\n",
        "# Confusion matrix\n",
        "# Ci,j is equal to the number of observations known to be in group  and predicted to be in group j.\n",
        "###############################################\n",
        "#               Pred+(0)     Pred-(1)\n",
        "# Actual+(0)    TN           FP       TActual+(0)\n",
        "# Actual-(1)    FN*          TP       TActual-(1)\n",
        "#               TPred+       TPred-\n",
        "#\n",
        "# FN = falsely predicted negative\n",
        "# FP = falsely predicted positive\n",
        "# 0 is negative, 1 is positive\n",
        "###############################################\n",
        "\n",
        "# TP = confusion[1,1] # true positive \n",
        "# TN = confusion[0,0] # true negatives\n",
        "# FP = confusion[0,1] # false positives\n",
        "# FN = confusion[1,0] # false negatives\n",
        "\n",
        "# Need to convert y_train from probabilities to 0 or 1\n",
        "cm = metrics.confusion_matrix(y_train, y_predicted)\n",
        "print(cm)\n",
        "\n",
        "# Calculating the accuracy\n",
        "acc_score = metrics.accuracy_score(y_train, y_predicted)\n",
        "print(\"Accuracy: \", round(acc_score, 3))\n",
        "print(\"Precision: \", round(metrics.precision_score(y_train, y_predicted), 3))\n",
        "print(\"Sensitivity or recall using function:\", round(metrics.recall_score(y_train, y_predicted), 3))\n",
        "\n",
        "# sensitivity = TP/(TP + FN)\n",
        "sensitivity = cm[1,1]/(cm[1,1]+cm[1,0])\n",
        "print('Sensitivity or recall using confusion matrix: ', round(sensitivity, 3))\n",
        "\n",
        "# specificity = TN/(TN + FP)\n",
        "specificity = cm[0,0]/(cm[0,0]+cm[0,1])\n",
        "print('Specificity using confusion matrix: ', round(specificity, 3))\n",
        "\n",
        "# Printing the misclassified values from prediction\n",
        "print('Misclassified samples: %d' % (y_train != y_predicted).sum())"
      ],
      "execution_count": 10,
      "outputs": [
        {
          "output_type": "stream",
          "name": "stdout",
          "text": [
            "0.22.2.post1\n",
            "y_train shape: (537,)\n",
            "x_train_sm shape: (537, 2)\n",
            "                 Generalized Linear Model Regression Results                  \n",
            "==============================================================================\n",
            "Dep. Variable:                      y   No. Observations:                  537\n",
            "Model:                            GLM   Df Residuals:                      535\n",
            "Model Family:                Binomial   Df Model:                            1\n",
            "Link Function:                  logit   Scale:                          1.0000\n",
            "Method:                          IRLS   Log-Likelihood:                -279.47\n",
            "Date:                Sat, 09 Oct 2021   Deviance:                       558.94\n",
            "Time:                        07:18:19   Pearson chi2:                 1.01e+03\n",
            "No. Iterations:                     5                                         \n",
            "Covariance Type:            nonrobust                                         \n",
            "==============================================================================\n",
            "                 coef    std err          z      P>|z|      [0.025      0.975]\n",
            "------------------------------------------------------------------------------\n",
            "const         -5.5744      0.520    -10.719      0.000      -6.594      -4.555\n",
            "x1             0.0397      0.004      9.856      0.000       0.032       0.048\n",
            "==============================================================================\n",
            "Classes predicted:  [0. 1.]\n",
            "Total predictions:  537\n",
            "Actual count of diabetes=0 [0,2]:  150 | diabetes=1 [1,2]:  81\n",
            "Predicted count of diabetes=0 [2,0]:  405 | diabetes=0 [2,1]:  132\n",
            "[[309  41]\n",
            " [ 96  91]]\n",
            "Accuracy:  0.745\n",
            "Precision:  0.689\n",
            "Sensitivity or recall using function: 0.487\n",
            "Sensitivity or recall using confusion matrix:  0.487\n",
            "Specificity using confusion matrix:  0.883\n",
            "Misclassified samples: 137\n"
          ]
        }
      ]
    },
    {
      "cell_type": "code",
      "metadata": {
        "colab": {
          "base_uri": "https://localhost:8080/",
          "height": 447
        },
        "id": "ZOizYVHUI2FT",
        "outputId": "f272dd83-a4bd-4405-9564-4cda20dfcd19"
      },
      "source": [
        "# =============================================================================\n",
        "# ROC curve\n",
        "# =============================================================================\n",
        "\n",
        "# predict probabilities of each X_test, this not required\n",
        "#print(y_pred_prob)\n",
        "\n",
        "fpr1, tpr1, thresh1 = roc_curve(y_train, y_pred_prob, pos_label=1)\n",
        "\n",
        "# roc curve for tpr = fpr \n",
        "random_probs = [0 for i in range(len(y_train))]\n",
        "p_fpr, p_tpr, _ = roc_curve(y_train, random_probs, pos_label=1)\n",
        "\n",
        "# auc scores\n",
        "auc_score = roc_auc_score(y_train, y_pred_prob)\n",
        "print('AUC score for GLM classifier: ', auc_score)\n",
        "\n",
        "plt.style.use('seaborn')\n",
        "\n",
        "# plot roc curves\n",
        "plt.plot(fpr1, tpr1, linestyle='--',color='orange', label='GLM classifier')\n",
        "plt.plot(p_fpr, p_tpr, linestyle='--', color='blue')\n",
        "# title\n",
        "plt.title('ROC curve for GB classifier')\n",
        "# x label\n",
        "plt.xlabel('False Positive Rate')\n",
        "# y label\n",
        "plt.ylabel('True Positive rate')\n",
        "\n",
        "plt.legend(loc='best')\n",
        "plt.savefig(dataset_path + 'ROC_GLM_classifier', dpi=300)\n",
        "plt.show();\n",
        "\n",
        "# =============================================================================\n",
        "# Specificity, sensitivity, and accuracy curve\n",
        "# =============================================================================\n",
        "\n",
        "numbers = [float(x)/10 for x in range(10)]\n",
        "#print(numbers)\n",
        "y_predicted_at_cutoffs = []\n",
        "\n",
        "#x = np.array(y_pred_prob)\n",
        "#print('Unique probabilities:', np.unique(x))\n",
        "\n",
        "for irow in range(len(y_pred_prob)):\n",
        "  v = [y_train[irow], y_pred_prob[irow], y_predicted[irow]]\n",
        "  for cutof_prob in numbers:\n",
        "    if (y_pred_prob[irow] <= cutof_prob): # non-diabetic\n",
        "      v.append(0)\n",
        "    else:\n",
        "      v.append(1)\n",
        "  y_predicted_at_cutoffs.append(v)\n",
        "\n",
        "print(y_predicted_at_cutoffs)\n",
        "\n",
        "# How many 0 and 1 using cuttof of 0.5?\n",
        "class0, class1 = 0, 0\n",
        "for irow in range(len(y_pred_prob)):\n",
        "  if (y_pred_prob[irow] <= 0.5):\n",
        "    class0 += 1\n",
        "  else:\n",
        "    class1 += 1\n",
        "print(\"Verification check: At 0.5 cutoff, predicted Class0 (No Diabetes): \" + str(class0) + \" Class1 (Diabetes):\" + str(class1))\n",
        "\n",
        "#print(pred_prob_y)\n",
        "#print(y_predicted)\n"
      ],
      "execution_count": 11,
      "outputs": [
        {
          "output_type": "stream",
          "name": "stdout",
          "text": [
            "AUC score for GLM classifier:  0.8027578304048892\n"
          ]
        },
        {
          "output_type": "display_data",
          "data": {
            "image/png": "[encoded data removed]",
            "text/plain": [
              "<Figure size 576x396 with 1 Axes>"
            ]
          },
          "metadata": {}
        },
        {
          "output_type": "stream",
          "name": "stdout",
          "text": [
            "[[1, 0.6120227826508906, 1.0, 1, 1, 1, 1, 1, 1, 1, 0, 0, 0], [0, 0.45538363709488267, 0.0, 1, 1, 1, 1, 1, 0, 0, 0, 0, 0], [1, 0.40677700335423866, 0.0, 1, 1, 1, 1, 1, 0, 0, 0, 0, 0], [1, 0.3508416138980204, 0.0, 1, 1, 1, 1, 0, 0, 0, 0, 0, 0], [0, 0.21589023420210285, 0.0, 1, 1, 1, 0, 0, 0, 0, 0, 0, 0], [1, 0.24396039950374945, 0.0, 1, 1, 1, 0, 0, 0, 0, 0, 0, 0], [1, 0.6025616414600314, 1.0, 1, 1, 1, 1, 1, 1, 1, 0, 0, 0], [0, 0.0037792703563152, 0.0, 1, 0, 0, 0, 0, 0, 0, 0, 0, 0], [0, 0.28237240086285526, 0.0, 1, 1, 1, 0, 0, 0, 0, 0, 0, 0], [0, 0.23671752801991397, 0.0, 1, 1, 1, 0, 0, 0, 0, 0, 0, 0], [1, 0.378405036518038, 0.0, 1, 1, 1, 1, 0, 0, 0, 0, 0, 0], [1, 0.740950452801617, 1.0, 1, 1, 1, 1, 1, 1, 1, 1, 0, 0], [1, 0.7093487785911698, 1.0, 1, 1, 1, 1, 1, 1, 1, 1, 0, 0], [0, 0.3242386507762252, 0.0, 1, 1, 1, 1, 0, 0, 0, 0, 0, 0], [0, 0.5640115671024828, 1.0, 1, 1, 1, 1, 1, 1, 0, 0, 0, 0], [0, 0.274403033278873, 0.0, 1, 1, 1, 0, 0, 0, 0, 0, 0, 0], [1, 0.7839695858345573, 1.0, 1, 1, 1, 1, 1, 1, 1, 1, 0, 0], [0, 0.4163846912418773, 0.0, 1, 1, 1, 1, 1, 0, 0, 0, 0, 0], [0, 0.13183044590810827, 0.0, 1, 1, 0, 0, 0, 0, 0, 0, 0, 0], [0, 0.5542323816554746, 1.0, 1, 1, 1, 1, 1, 1, 0, 0, 0, 0], [1, 0.34186039502477056, 0.0, 1, 1, 1, 1, 0, 0, 0, 0, 0, 0], [0, 0.30710139713295753, 0.0, 1, 1, 1, 1, 0, 0, 0, 0, 0, 0], [0, 0.17831352555764884, 0.0, 1, 1, 0, 0, 0, 0, 0, 0, 0, 0], [0, 0.0926585069690675, 0.0, 1, 0, 0, 0, 0, 0, 0, 0, 0, 0], [1, 0.8967618544462385, 1.0, 1, 1, 1, 1, 1, 1, 1, 1, 1, 0], [0, 0.38778065177666204, 0.0, 1, 1, 1, 1, 0, 0, 0, 0, 0, 0], [0, 0.15107693349627124, 0.0, 1, 1, 0, 0, 0, 0, 0, 0, 0, 0], [0, 0.6579533115201859, 1.0, 1, 1, 1, 1, 1, 1, 1, 0, 0, 0], [0, 0.2904805618450232, 0.0, 1, 1, 1, 0, 0, 0, 0, 0, 0, 0], [0, 0.13183044590810827, 0.0, 1, 1, 0, 0, 0, 0, 0, 0, 0, 0], [1, 0.7484922754287904, 1.0, 1, 1, 1, 1, 1, 1, 1, 1, 0, 0], [1, 0.35992974459642874, 0.0, 1, 1, 1, 1, 0, 0, 0, 0, 0, 0], [0, 0.25889067083197603, 0.0, 1, 1, 1, 0, 0, 0, 0, 0, 0, 0], [0, 0.4850237064547425, 0.0, 1, 1, 1, 1, 1, 0, 0, 0, 0, 0], [0, 0.3691194313456408, 0.0, 1, 1, 1, 1, 0, 0, 0, 0, 0, 0], [0, 0.378405036518038, 0.0, 1, 1, 1, 1, 0, 0, 0, 0, 0, 0], [0, 0.8811180732504039, 1.0, 1, 1, 1, 1, 1, 1, 1, 1, 1, 0], [0, 0.25889067083197603, 0.0, 1, 1, 1, 0, 0, 0, 0, 0, 0, 0], [1, 0.4357848628482547, 0.0, 1, 1, 1, 1, 1, 0, 0, 0, 0, 0], [1, 0.6668249406686096, 1.0, 1, 1, 1, 1, 1, 1, 1, 0, 0, 0], [1, 0.39724011077225435, 0.0, 1, 1, 1, 1, 0, 0, 0, 0, 0, 0], [1, 0.6025616414600314, 1.0, 1, 1, 1, 1, 1, 1, 1, 0, 0, 0], [0, 0.10689023270450933, 0.0, 1, 1, 0, 0, 0, 0, 0, 0, 0, 0], [0, 0.16698313616001473, 0.0, 1, 1, 0, 0, 0, 0, 0, 0, 0, 0], [0, 0.25889067083197603, 0.0, 1, 1, 1, 0, 0, 0, 0, 0, 0, 0], [0, 0.6306877562198698, 1.0, 1, 1, 1, 1, 1, 1, 1, 0, 0, 0], [0, 0.2904805618450232, 0.0, 1, 1, 1, 0, 0, 0, 0, 0, 0, 0], [1, 0.648969808841037, 1.0, 1, 1, 1, 1, 1, 1, 1, 0, 0, 0], [1, 0.11879523318627286, 0.0, 1, 1, 0, 0, 0, 0, 0, 0, 0, 0], [0, 0.17831352555764884, 0.0, 1, 1, 0, 0, 0, 0, 0, 0, 0, 0], [0, 0.1842006532845772, 0.0, 1, 1, 0, 0, 0, 0, 0, 0, 0, 0], [0, 0.38778065177666204, 0.0, 1, 1, 1, 1, 0, 0, 0, 0, 0, 0], [1, 0.5345550136269951, 1.0, 1, 1, 1, 1, 1, 1, 0, 0, 0, 0], [1, 0.7332630706860798, 1.0, 1, 1, 1, 1, 1, 1, 1, 1, 0, 0], [1, 0.16698313616001473, 0.0, 1, 1, 0, 0, 0, 0, 0, 0, 0, 0], [0, 0.49493759040379137, 0.0, 1, 1, 1, 1, 1, 0, 0, 0, 0, 0], [0, 0.14605891539234803, 0.0, 1, 1, 0, 0, 0, 0, 0, 0, 0, 0], [1, 0.7839695858345573, 1.0, 1, 1, 1, 1, 1, 1, 1, 1, 0, 0], [0, 0.3242386507762252, 0.0, 1, 1, 1, 1, 0, 0, 0, 0, 0, 0], [0, 0.11470457313861519, 0.0, 1, 1, 0, 0, 0, 0, 0, 0, 0, 0], [1, 0.8156749061436646, 1.0, 1, 1, 1, 1, 1, 1, 1, 1, 1, 0], [0, 0.4357848628482547, 0.0, 1, 1, 1, 1, 1, 0, 0, 0, 0, 0], [0, 0.3691194313456408, 0.0, 1, 1, 1, 1, 0, 0, 0, 0, 0, 0], [1, 0.28237240086285526, 0.0, 1, 1, 1, 0, 0, 0, 0, 0, 0, 0], [0, 0.12301150623263402, 0.0, 1, 1, 0, 0, 0, 0, 0, 0, 0, 0], [0, 0.11470457313861519, 0.0, 1, 1, 0, 0, 0, 0, 0, 0, 0, 0], [0, 0.1562358092617795, 0.0, 1, 1, 0, 0, 0, 0, 0, 0, 0, 0], [1, 0.5542323816554746, 1.0, 1, 1, 1, 1, 1, 1, 0, 0, 0, 0], [1, 0.8680747719352992, 1.0, 1, 1, 1, 1, 1, 1, 1, 1, 1, 0], [1, 0.8680747719352992, 1.0, 1, 1, 1, 1, 1, 1, 1, 1, 1, 0], [1, 0.740950452801617, 1.0, 1, 1, 1, 1, 1, 1, 1, 1, 0, 0], [0, 0.07180368236279487, 0.0, 1, 0, 0, 0, 0, 0, 0, 0, 0, 0], [0, 0.12301150623263402, 0.0, 1, 1, 0, 0, 0, 0, 0, 0, 0, 0], [0, 0.16153732595748502, 0.0, 1, 1, 0, 0, 0, 0, 0, 0, 0, 0], [1, 0.3508416138980204, 0.0, 1, 1, 1, 1, 0, 0, 0, 0, 0, 0], [1, 0.3508416138980204, 0.0, 1, 1, 1, 1, 0, 0, 0, 0, 0, 0], [0, 0.13643773217732805, 0.0, 1, 1, 0, 0, 0, 0, 0, 0, 0, 0], [0, 0.6668249406686096, 1.0, 1, 1, 1, 1, 1, 1, 1, 0, 0, 0], [0, 0.10316152441407017, 0.0, 1, 1, 0, 0, 0, 0, 0, 0, 0, 0], [0, 0.274403033278873, 0.0, 1, 1, 1, 0, 0, 0, 0, 0, 0, 0], [0, 0.6214002114332614, 1.0, 1, 1, 1, 1, 1, 1, 1, 0, 0, 0], [0, 0.4850237064547425, 0.0, 1, 1, 1, 1, 1, 0, 0, 0, 0, 0], [0, 0.7971047975356093, 1.0, 1, 1, 1, 1, 1, 1, 1, 1, 0, 0], [1, 0.514769503558071, 1.0, 1, 1, 1, 1, 1, 1, 0, 0, 0, 0], [0, 0.45538363709488267, 0.0, 1, 1, 1, 1, 1, 0, 0, 0, 0, 0], [1, 0.23671752801991397, 0.0, 1, 1, 1, 0, 0, 0, 0, 0, 0, 0], [0, 0.378405036518038, 0.0, 1, 1, 1, 1, 0, 0, 0, 0, 0, 0], [0, 0.17257475038917489, 0.0, 1, 1, 0, 0, 0, 0, 0, 0, 0, 0], [0, 0.09604824680943871, 0.0, 1, 0, 0, 0, 0, 0, 0, 0, 0, 0], [0, 0.15107693349627124, 0.0, 1, 1, 0, 0, 0, 0, 0, 0, 0, 0], [0, 0.23671752801991397, 0.0, 1, 1, 1, 0, 0, 0, 0, 0, 0, 0], [0, 0.1273557957793171, 0.0, 1, 1, 0, 0, 0, 0, 0, 0, 0, 0], [0, 0.274403033278873, 0.0, 1, 1, 1, 0, 0, 0, 0, 0, 0, 0], [1, 0.17257475038917489, 0.0, 1, 1, 0, 0, 0, 0, 0, 0, 0, 0], [1, 0.740950452801617, 1.0, 1, 1, 1, 1, 1, 1, 1, 1, 0, 0], [1, 0.5737412160481735, 1.0, 1, 1, 1, 1, 1, 1, 0, 0, 0, 0], [1, 0.8329016724344045, 1.0, 1, 1, 1, 1, 1, 1, 1, 1, 1, 0], [1, 0.38778065177666204, 0.0, 1, 1, 1, 1, 0, 0, 0, 0, 0, 0], [0, 0.5737412160481735, 1.0, 1, 1, 1, 1, 1, 1, 0, 0, 0, 0], [0, 0.49493759040379137, 0.0, 1, 1, 1, 1, 1, 0, 0, 0, 0, 0], [1, 0.6398795031544916, 1.0, 1, 1, 1, 1, 1, 1, 1, 0, 0, 0], [1, 0.21589023420210285, 0.0, 1, 1, 1, 0, 0, 0, 0, 0, 0, 0], [0, 0.11073707186581468, 0.0, 1, 1, 0, 0, 0, 0, 0, 0, 0, 0], [1, 0.5542323816554746, 1.0, 1, 1, 1, 1, 1, 1, 0, 0, 0, 0], [1, 0.378405036518038, 0.0, 1, 1, 1, 1, 0, 0, 0, 0, 0, 0], [0, 0.14605891539234803, 0.0, 1, 1, 0, 0, 0, 0, 0, 0, 0, 0], [1, 0.46523900769900495, 0.0, 1, 1, 1, 1, 1, 0, 0, 0, 0, 0], [1, 0.17831352555764884, 0.0, 1, 1, 0, 0, 0, 0, 0, 0, 0, 0], [1, 0.07727491433857707, 0.0, 1, 0, 0, 0, 0, 0, 0, 0, 0, 0], [0, 0.1411798521246068, 0.0, 1, 1, 0, 0, 0, 0, 0, 0, 0, 0], [0, 0.25889067083197603, 0.0, 1, 1, 1, 0, 0, 0, 0, 0, 0, 0], [0, 0.2296243787076333, 0.0, 1, 1, 1, 0, 0, 0, 0, 0, 0, 0], [0, 0.09604824680943871, 0.0, 1, 0, 0, 0, 0, 0, 0, 0, 0, 0], [1, 0.47512159465583775, 0.0, 1, 1, 1, 1, 1, 0, 0, 0, 0, 0], [0, 0.20925007779285384, 0.0, 1, 1, 1, 0, 0, 0, 0, 0, 0, 0], [0, 0.17257475038917489, 0.0, 1, 1, 0, 0, 0, 0, 0, 0, 0, 0], [1, 0.9072718662251106, 1.0, 1, 1, 1, 1, 1, 1, 1, 1, 1, 1], [0, 0.42605632508733793, 0.0, 1, 1, 1, 1, 1, 0, 0, 0, 0, 0], [0, 0.6306877562198698, 1.0, 1, 1, 1, 1, 1, 1, 1, 0, 0, 0], [1, 0.701101909126846, 1.0, 1, 1, 1, 1, 1, 1, 1, 1, 0, 0], [1, 0.8930307070524484, 1.0, 1, 1, 1, 1, 1, 1, 1, 1, 1, 0], [0, 0.2226817649568814, 0.0, 1, 1, 1, 0, 0, 0, 0, 0, 0, 0], [0, 0.16153732595748502, 0.0, 1, 1, 0, 0, 0, 0, 0, 0, 0, 0], [0, 0.08312570304746901, 0.0, 1, 0, 0, 0, 0, 0, 0, 0, 0, 0], [0, 0.13643773217732805, 0.0, 1, 1, 0, 0, 0, 0, 0, 0, 0, 0], [0, 0.2226817649568814, 0.0, 1, 1, 1, 0, 0, 0, 0, 0, 0, 0], [0, 0.02127254199989701, 0.0, 1, 0, 0, 0, 0, 0, 0, 0, 0, 0], [0, 0.1842006532845772, 0.0, 1, 1, 0, 0, 0, 0, 0, 0, 0, 0], [1, 0.378405036518038, 0.0, 1, 1, 1, 1, 0, 0, 0, 0, 0, 0], [0, 0.17257475038917489, 0.0, 1, 1, 0, 0, 0, 0, 0, 0, 0, 0], [1, 0.7174598062478458, 1.0, 1, 1, 1, 1, 1, 1, 1, 1, 0, 0], [0, 0.09604824680943871, 0.0, 1, 0, 0, 0, 0, 0, 0, 0, 0, 0], [0, 0.35992974459642874, 0.0, 1, 1, 1, 1, 0, 0, 0, 0, 0, 0], [0, 0.3329911523316293, 0.0, 1, 1, 1, 1, 0, 0, 0, 0, 0, 0], [0, 0.09954838861582574, 0.0, 1, 0, 0, 0, 0, 0, 0, 0, 0, 0], [0, 0.38778065177666204, 0.0, 1, 1, 1, 1, 0, 0, 0, 0, 0, 0], [0, 0.08619983413151892, 0.0, 1, 0, 0, 0, 0, 0, 0, 0, 0, 0], [0, 0.8725521669258534, 1.0, 1, 1, 1, 1, 1, 1, 1, 1, 1, 0], [1, 0.7702291367941435, 1.0, 1, 1, 1, 1, 1, 1, 1, 1, 0, 0], [1, 0.5640115671024828, 1.0, 1, 1, 1, 1, 1, 1, 0, 0, 0, 0], [0, 0.0596548610024339, 0.0, 1, 0, 0, 0, 0, 0, 0, 0, 0, 0], [1, 0.45538363709488267, 0.0, 1, 1, 1, 1, 1, 0, 0, 0, 0, 0], [0, 0.514769503558071, 1.0, 1, 1, 1, 1, 1, 1, 0, 0, 0, 0], [0, 0.6579533115201859, 1.0, 1, 1, 1, 1, 1, 1, 1, 0, 0, 0], [1, 0.2987246282501971, 0.0, 1, 1, 1, 0, 0, 0, 0, 0, 0, 0], [1, 0.6120227826508906, 1.0, 1, 1, 1, 1, 1, 1, 1, 0, 0, 0], [0, 0.35992974459642874, 0.0, 1, 1, 1, 1, 0, 0, 0, 0, 0, 0], [0, 0.3329911523316293, 0.0, 1, 1, 1, 1, 0, 0, 0, 0, 0, 0], [0, 0.11470457313861519, 0.0, 1, 1, 0, 0, 0, 0, 0, 0, 0, 0], [0, 0.16153732595748502, 0.0, 1, 1, 0, 0, 0, 0, 0, 0, 0, 0], [1, 0.17831352555764884, 0.0, 1, 1, 0, 0, 0, 0, 0, 0, 0, 0], [0, 0.20276134138926122, 0.0, 1, 1, 1, 0, 0, 0, 0, 0, 0, 0], [1, 0.251351904559326, 0.0, 1, 1, 1, 0, 0, 0, 0, 0, 0, 0], [1, 0.19642383579302505, 0.0, 1, 1, 0, 0, 0, 0, 0, 0, 0, 0], [0, 0.23671752801991397, 0.0, 1, 1, 1, 0, 0, 0, 0, 0, 0, 0], [1, 0.4163846912418773, 0.0, 1, 1, 1, 1, 1, 0, 0, 0, 0, 0], [0, 0.26657503447004294, 0.0, 1, 1, 1, 0, 0, 0, 0, 0, 0, 0], [0, 0.5048554568353425, 1.0, 1, 1, 1, 1, 1, 1, 0, 0, 0, 0], [1, 0.40677700335423866, 0.0, 1, 1, 1, 1, 1, 0, 0, 0, 0, 0], [1, 0.2226817649568814, 0.0, 1, 1, 1, 0, 0, 0, 0, 0, 0, 0], [1, 0.8329016724344045, 1.0, 1, 1, 1, 1, 1, 1, 1, 1, 1, 0], [0, 0.1842006532845772, 0.0, 1, 1, 0, 0, 0, 0, 0, 0, 0, 0], [1, 0.38778065177666204, 0.0, 1, 1, 1, 1, 0, 0, 0, 0, 0, 0], [0, 0.13643773217732805, 0.0, 1, 1, 0, 0, 0, 0, 0, 0, 0, 0], [0, 0.0926585069690675, 0.0, 1, 0, 0, 0, 0, 0, 0, 0, 0, 0], [1, 0.2226817649568814, 0.0, 1, 1, 1, 0, 0, 0, 0, 0, 0, 0], [0, 0.08312570304746901, 0.0, 1, 0, 0, 0, 0, 0, 0, 0, 0, 0], [0, 0.1273557957793171, 0.0, 1, 1, 0, 0, 0, 0, 0, 0, 0, 0], [0, 0.15107693349627124, 0.0, 1, 1, 0, 0, 0, 0, 0, 0, 0, 0], [0, 0.5345550136269951, 1.0, 1, 1, 1, 1, 1, 1, 0, 0, 0, 0], [1, 0.45538363709488267, 0.0, 1, 1, 1, 1, 1, 0, 0, 0, 0, 0], [0, 0.21589023420210285, 0.0, 1, 1, 1, 0, 0, 0, 0, 0, 0, 0], [1, 0.15107693349627124, 0.0, 1, 1, 0, 0, 0, 0, 0, 0, 0, 0], [1, 0.30710139713295753, 0.0, 1, 1, 1, 1, 0, 0, 0, 0, 0, 0], [0, 0.0926585069690675, 0.0, 1, 0, 0, 0, 0, 0, 0, 0, 0, 0], [0, 0.06426448007197605, 0.0, 1, 0, 0, 0, 0, 0, 0, 0, 0, 0], [1, 0.45538363709488267, 0.0, 1, 1, 1, 1, 1, 0, 0, 0, 0, 0], [1, 0.30710139713295753, 0.0, 1, 1, 1, 1, 0, 0, 0, 0, 0, 0], [0, 0.035124841944409145, 0.0, 1, 0, 0, 0, 0, 0, 0, 0, 0, 0], [1, 0.3508416138980204, 0.0, 1, 1, 1, 1, 0, 0, 0, 0, 0, 0], [1, 0.42605632508733793, 0.0, 1, 1, 1, 1, 1, 0, 0, 0, 0, 0], [1, 0.4163846912418773, 0.0, 1, 1, 1, 1, 1, 0, 0, 0, 0, 0], [0, 0.1411798521246068, 0.0, 1, 1, 0, 0, 0, 0, 0, 0, 0, 0], [1, 0.7254320975686545, 1.0, 1, 1, 1, 1, 1, 1, 1, 1, 0, 0], [1, 0.8273070005545844, 1.0, 1, 1, 1, 1, 1, 1, 1, 1, 1, 0], [1, 0.7093487785911698, 1.0, 1, 1, 1, 1, 1, 1, 1, 1, 0, 0], [0, 0.23671752801991397, 0.0, 1, 1, 1, 0, 0, 0, 0, 0, 0, 0], [0, 0.08015158810941674, 0.0, 1, 0, 0, 0, 0, 0, 0, 0, 0, 0], [0, 0.5246719403926097, 1.0, 1, 1, 1, 1, 1, 1, 0, 0, 0, 0], [0, 0.0596548610024339, 0.0, 1, 0, 0, 0, 0, 0, 0, 0, 0, 0], [0, 0.1562358092617795, 0.0, 1, 1, 0, 0, 0, 0, 0, 0, 0, 0], [0, 0.0744931243756784, 0.0, 1, 0, 0, 0, 0, 0, 0, 0, 0, 0], [1, 0.6927224073890204, 1.0, 1, 1, 1, 1, 1, 1, 1, 0, 0, 0], [1, 0.648969808841037, 1.0, 1, 1, 1, 1, 1, 1, 1, 0, 0, 0], [1, 0.848816856386869, 1.0, 1, 1, 1, 1, 1, 1, 1, 1, 1, 0], [0, 0.3156073495258587, 0.0, 1, 1, 1, 1, 0, 0, 0, 0, 0, 0], [1, 0.4850237064547425, 0.0, 1, 1, 1, 1, 1, 0, 0, 0, 0, 0], [0, 0.7254320975686545, 1.0, 1, 1, 1, 1, 1, 1, 1, 1, 0, 0], [0, 0.16698313616001473, 0.0, 1, 1, 0, 0, 0, 0, 0, 0, 0, 0], [1, 0.9105560265217512, 1.0, 1, 1, 1, 1, 1, 1, 1, 1, 1, 1], [0, 0.1842006532845772, 0.0, 1, 1, 0, 0, 0, 0, 0, 0, 0, 0], [0, 0.5444110302290325, 1.0, 1, 1, 1, 1, 1, 1, 0, 0, 0, 0], [0, 0.09954838861582574, 0.0, 1, 0, 0, 0, 0, 0, 0, 0, 0, 0], [0, 0.14605891539234803, 0.0, 1, 1, 0, 0, 0, 0, 0, 0, 0, 0], [1, 0.8329016724344045, 1.0, 1, 1, 1, 1, 1, 1, 1, 1, 1, 0], [0, 0.3156073495258587, 0.0, 1, 1, 1, 1, 0, 0, 0, 0, 0, 0], [0, 0.8930307070524484, 1.0, 1, 1, 1, 1, 1, 1, 1, 1, 1, 0], [0, 0.17831352555764884, 0.0, 1, 1, 0, 0, 0, 0, 0, 0, 0, 0], [0, 0.23671752801991397, 0.0, 1, 1, 1, 0, 0, 0, 0, 0, 0, 0], [0, 0.0037792703563152, 0.0, 1, 0, 0, 0, 0, 0, 0, 0, 0, 0], [0, 0.04091829396377934, 0.0, 1, 0, 0, 0, 0, 0, 0, 0, 0, 0], [0, 0.1273557957793171, 0.0, 1, 1, 0, 0, 0, 0, 0, 0, 0, 0], [1, 0.39724011077225435, 0.0, 1, 1, 1, 1, 0, 0, 0, 0, 0, 0], [0, 0.16153732595748502, 0.0, 1, 1, 0, 0, 0, 0, 0, 0, 0, 0], [1, 0.25889067083197603, 0.0, 1, 1, 1, 0, 0, 0, 0, 0, 0, 0], [0, 0.28237240086285526, 0.0, 1, 1, 1, 0, 0, 0, 0, 0, 0, 0], [0, 0.19642383579302505, 0.0, 1, 1, 0, 0, 0, 0, 0, 0, 0, 0], [0, 0.3691194313456408, 0.0, 1, 1, 1, 1, 0, 0, 0, 0, 0, 0], [0, 0.16153732595748502, 0.0, 1, 1, 0, 0, 0, 0, 0, 0, 0, 0], [0, 0.24396039950374945, 0.0, 1, 1, 1, 0, 0, 0, 0, 0, 0, 0], [1, 0.39724011077225435, 0.0, 1, 1, 1, 1, 0, 0, 0, 0, 0, 0], [1, 0.45538363709488267, 0.0, 1, 1, 1, 1, 1, 0, 0, 0, 0, 0], [0, 0.13643773217732805, 0.0, 1, 1, 0, 0, 0, 0, 0, 0, 0, 0], [0, 0.1411798521246068, 0.0, 1, 1, 0, 0, 0, 0, 0, 0, 0, 0], [0, 0.20925007779285384, 0.0, 1, 1, 1, 0, 0, 0, 0, 0, 0, 0], [0, 0.16153732595748502, 0.0, 1, 1, 0, 0, 0, 0, 0, 0, 0, 0], [0, 0.45538363709488267, 0.0, 1, 1, 1, 1, 1, 0, 0, 0, 0, 0], [1, 0.26657503447004294, 0.0, 1, 1, 1, 0, 0, 0, 0, 0, 0, 0], [0, 0.28237240086285526, 0.0, 1, 1, 1, 0, 0, 0, 0, 0, 0, 0], [0, 0.16153732595748502, 0.0, 1, 1, 0, 0, 0, 0, 0, 0, 0, 0], [0, 0.17831352555764884, 0.0, 1, 1, 0, 0, 0, 0, 0, 0, 0, 0], [0, 0.10689023270450933, 0.0, 1, 1, 0, 0, 0, 0, 0, 0, 0, 0], [0, 0.46523900769900495, 0.0, 1, 1, 1, 1, 1, 0, 0, 0, 0, 0], [0, 0.274403033278873, 0.0, 1, 1, 1, 0, 0, 0, 0, 0, 0, 0], [0, 0.39724011077225435, 0.0, 1, 1, 1, 1, 0, 0, 0, 0, 0, 0], [0, 0.20276134138926122, 0.0, 1, 1, 1, 0, 0, 0, 0, 0, 0, 0], [0, 0.3242386507762252, 0.0, 1, 1, 1, 1, 0, 0, 0, 0, 0, 0], [0, 0.7254320975686545, 1.0, 1, 1, 1, 1, 1, 1, 1, 1, 0, 0], [0, 0.30710139713295753, 0.0, 1, 1, 1, 1, 0, 0, 0, 0, 0, 0], [1, 0.6120227826508906, 1.0, 1, 1, 1, 1, 1, 1, 1, 0, 0, 0], [1, 0.40677700335423866, 0.0, 1, 1, 1, 1, 1, 0, 0, 0, 0, 0], [0, 0.13183044590810827, 0.0, 1, 1, 0, 0, 0, 0, 0, 0, 0, 0], [0, 0.38778065177666204, 0.0, 1, 1, 1, 1, 0, 0, 0, 0, 0, 0], [1, 0.8273070005545844, 1.0, 1, 1, 1, 1, 1, 1, 1, 1, 1, 0], [1, 0.25889067083197603, 0.0, 1, 1, 1, 0, 0, 0, 0, 0, 0, 0], [0, 0.1273557957793171, 0.0, 1, 1, 0, 0, 0, 0, 0, 0, 0, 0], [1, 0.5048554568353425, 1.0, 1, 1, 1, 1, 1, 1, 0, 0, 0, 0], [0, 0.3508416138980204, 0.0, 1, 1, 1, 1, 0, 0, 0, 0, 0, 0], [0, 0.2296243787076333, 0.0, 1, 1, 1, 0, 0, 0, 0, 0, 0, 0], [0, 0.2904805618450232, 0.0, 1, 1, 1, 0, 0, 0, 0, 0, 0, 0], [1, 0.49493759040379137, 0.0, 1, 1, 1, 1, 1, 0, 0, 0, 0, 0], [1, 0.19642383579302505, 0.0, 1, 1, 0, 0, 0, 0, 0, 0, 0, 0], [0, 0.16698313616001473, 0.0, 1, 1, 0, 0, 0, 0, 0, 0, 0, 0], [0, 0.12301150623263402, 0.0, 1, 1, 0, 0, 0, 0, 0, 0, 0, 0], [0, 0.20276134138926122, 0.0, 1, 1, 1, 0, 0, 0, 0, 0, 0, 0], [0, 0.5345550136269951, 1.0, 1, 1, 1, 1, 1, 1, 0, 0, 0, 0], [1, 0.848816856386869, 1.0, 1, 1, 1, 1, 1, 1, 1, 1, 1, 0], [0, 0.1273557957793171, 0.0, 1, 1, 0, 0, 0, 0, 0, 0, 0, 0], [0, 0.23671752801991397, 0.0, 1, 1, 1, 0, 0, 0, 0, 0, 0, 0], [0, 0.251351904559326, 0.0, 1, 1, 1, 0, 0, 0, 0, 0, 0, 0], [0, 0.2987246282501971, 0.0, 1, 1, 1, 0, 0, 0, 0, 0, 0, 0], [0, 0.23671752801991397, 0.0, 1, 1, 1, 0, 0, 0, 0, 0, 0, 0], [0, 0.46523900769900495, 0.0, 1, 1, 1, 1, 1, 0, 0, 0, 0, 0], [0, 0.16153732595748502, 0.0, 1, 1, 0, 0, 0, 0, 0, 0, 0, 0], [0, 0.11879523318627286, 0.0, 1, 1, 0, 0, 0, 0, 0, 0, 0, 0], [0, 0.035124841944409145, 0.0, 1, 0, 0, 0, 0, 0, 0, 0, 0, 0], [1, 0.26657503447004294, 0.0, 1, 1, 1, 0, 0, 0, 0, 0, 0, 0], [1, 0.5345550136269951, 1.0, 1, 1, 1, 1, 1, 1, 0, 0, 0, 0], [1, 0.6668249406686096, 1.0, 1, 1, 1, 1, 1, 1, 1, 0, 0, 0], [0, 0.12301150623263402, 0.0, 1, 1, 0, 0, 0, 0, 0, 0, 0, 0], [0, 0.30710139713295753, 0.0, 1, 1, 1, 1, 0, 0, 0, 0, 0, 0], [0, 0.6025616414600314, 1.0, 1, 1, 1, 1, 1, 1, 1, 0, 0, 0], [0, 0.28237240086285526, 0.0, 1, 1, 1, 0, 0, 0, 0, 0, 0, 0], [0, 0.16698313616001473, 0.0, 1, 1, 0, 0, 0, 0, 0, 0, 0, 0], [1, 0.3242386507762252, 0.0, 1, 1, 1, 1, 0, 0, 0, 0, 0, 0], [0, 0.11879523318627286, 0.0, 1, 1, 0, 0, 0, 0, 0, 0, 0, 0], [0, 0.1273557957793171, 0.0, 1, 1, 0, 0, 0, 0, 0, 0, 0, 0], [0, 0.08619983413151892, 0.0, 1, 0, 0, 0, 0, 0, 0, 0, 0, 0], [1, 0.7702291367941435, 1.0, 1, 1, 1, 1, 1, 1, 1, 1, 0, 0], [0, 0.11073707186581468, 0.0, 1, 1, 0, 0, 0, 0, 0, 0, 0, 0], [1, 0.378405036518038, 0.0, 1, 1, 1, 1, 0, 0, 0, 0, 0, 0], [0, 0.10689023270450933, 0.0, 1, 1, 0, 0, 0, 0, 0, 0, 0, 0], [0, 0.19023714812758663, 0.0, 1, 1, 0, 0, 0, 0, 0, 0, 0, 0], [0, 0.4455630893737339, 0.0, 1, 1, 1, 1, 1, 0, 0, 0, 0, 0], [0, 0.24396039950374945, 0.0, 1, 1, 1, 0, 0, 0, 0, 0, 0, 0], [0, 0.6668249406686096, 1.0, 1, 1, 1, 1, 1, 1, 1, 0, 0, 0], [0, 0.6306877562198698, 1.0, 1, 1, 1, 1, 1, 1, 1, 0, 0, 0], [0, 0.11879523318627286, 0.0, 1, 1, 0, 0, 0, 0, 0, 0, 0, 0], [1, 0.21589023420210285, 0.0, 1, 1, 1, 0, 0, 0, 0, 0, 0, 0], [0, 0.21589023420210285, 0.0, 1, 1, 1, 0, 0, 0, 0, 0, 0, 0], [1, 0.7631328538240761, 1.0, 1, 1, 1, 1, 1, 1, 1, 1, 0, 0], [0, 0.16698313616001473, 0.0, 1, 1, 0, 0, 0, 0, 0, 0, 0, 0], [1, 0.7906129024303392, 1.0, 1, 1, 1, 1, 1, 1, 1, 1, 0, 0], [0, 0.19642383579302505, 0.0, 1, 1, 0, 0, 0, 0, 0, 0, 0, 0], [0, 0.09604824680943871, 0.0, 1, 0, 0, 0, 0, 0, 0, 0, 0, 0], [1, 0.5640115671024828, 1.0, 1, 1, 1, 1, 1, 1, 0, 0, 0, 0], [1, 0.30710139713295753, 0.0, 1, 1, 1, 1, 0, 0, 0, 0, 0, 0], [0, 0.40677700335423866, 0.0, 1, 1, 1, 1, 1, 0, 0, 0, 0, 0], [0, 0.26657503447004294, 0.0, 1, 1, 1, 0, 0, 0, 0, 0, 0, 0], [0, 0.25889067083197603, 0.0, 1, 1, 1, 0, 0, 0, 0, 0, 0, 0], [0, 0.08619983413151892, 0.0, 1, 0, 0, 0, 0, 0, 0, 0, 0, 0], [0, 0.20276134138926122, 0.0, 1, 1, 1, 0, 0, 0, 0, 0, 0, 0], [0, 0.274403033278873, 0.0, 1, 1, 1, 0, 0, 0, 0, 0, 0, 0], [1, 0.903879849053845, 1.0, 1, 1, 1, 1, 1, 1, 1, 1, 1, 1], [0, 0.14605891539234803, 0.0, 1, 1, 0, 0, 0, 0, 0, 0, 0, 0], [0, 0.06669182718589378, 0.0, 1, 0, 0, 0, 0, 0, 0, 0, 0, 0], [0, 0.1411798521246068, 0.0, 1, 1, 0, 0, 0, 0, 0, 0, 0, 0], [0, 0.19642383579302505, 0.0, 1, 1, 0, 0, 0, 0, 0, 0, 0, 0], [1, 0.19642383579302505, 0.0, 1, 1, 0, 0, 0, 0, 0, 0, 0, 0], [1, 0.8587197376601562, 1.0, 1, 1, 1, 1, 1, 1, 1, 1, 1, 0], [1, 0.7631328538240761, 1.0, 1, 1, 1, 1, 1, 1, 1, 1, 0, 0], [1, 0.5640115671024828, 1.0, 1, 1, 1, 1, 1, 1, 0, 0, 0, 0], [1, 0.20925007779285384, 0.0, 1, 1, 1, 0, 0, 0, 0, 0, 0, 0], [1, 0.378405036518038, 0.0, 1, 1, 1, 1, 0, 0, 0, 0, 0, 0], [1, 0.23671752801991397, 0.0, 1, 1, 1, 0, 0, 0, 0, 0, 0, 0], [0, 0.1842006532845772, 0.0, 1, 1, 0, 0, 0, 0, 0, 0, 0, 0], [1, 0.7839695858345573, 1.0, 1, 1, 1, 1, 1, 1, 1, 1, 0, 0], [1, 0.5444110302290325, 1.0, 1, 1, 1, 1, 1, 1, 0, 0, 0, 0], [0, 0.3242386507762252, 0.0, 1, 1, 1, 1, 0, 0, 0, 0, 0, 0], [0, 0.05135061243579527, 0.0, 1, 0, 0, 0, 0, 0, 0, 0, 0, 0], [0, 0.24396039950374945, 0.0, 1, 1, 1, 0, 0, 0, 0, 0, 0, 0], [0, 0.16153732595748502, 0.0, 1, 1, 0, 0, 0, 0, 0, 0, 0, 0], [0, 0.14605891539234803, 0.0, 1, 1, 0, 0, 0, 0, 0, 0, 0, 0], [0, 0.08619983413151892, 0.0, 1, 0, 0, 0, 0, 0, 0, 0, 0, 0], [1, 0.34186039502477056, 0.0, 1, 1, 1, 1, 0, 0, 0, 0, 0, 0], [1, 0.38778065177666204, 0.0, 1, 1, 1, 1, 0, 0, 0, 0, 0, 0], [1, 0.28237240086285526, 0.0, 1, 1, 1, 0, 0, 0, 0, 0, 0, 0], [1, 0.19023714812758663, 0.0, 1, 1, 0, 0, 0, 0, 0, 0, 0, 0], [1, 0.5345550136269951, 1.0, 1, 1, 1, 1, 1, 1, 0, 0, 0, 0], [1, 0.49493759040379137, 0.0, 1, 1, 1, 1, 1, 0, 0, 0, 0, 0], [0, 0.08937656972414218, 0.0, 1, 0, 0, 0, 0, 0, 0, 0, 0, 0], [0, 0.23671752801991397, 0.0, 1, 1, 1, 0, 0, 0, 0, 0, 0, 0], [0, 0.08619983413151892, 0.0, 1, 0, 0, 0, 0, 0, 0, 0, 0, 0], [1, 0.5542323816554746, 1.0, 1, 1, 1, 1, 1, 1, 0, 0, 0, 0], [0, 0.6927224073890204, 1.0, 1, 1, 1, 1, 1, 1, 1, 0, 0, 0], [0, 0.11073707186581468, 0.0, 1, 1, 0, 0, 0, 0, 0, 0, 0, 0], [0, 0.3329911523316293, 0.0, 1, 1, 1, 1, 0, 0, 0, 0, 0, 0], [0, 0.5930232029369533, 1.0, 1, 1, 1, 1, 1, 1, 0, 0, 0, 0], [0, 0.24396039950374945, 0.0, 1, 1, 1, 0, 0, 0, 0, 0, 0, 0], [0, 0.4163846912418773, 0.0, 1, 1, 1, 1, 1, 0, 0, 0, 0, 0], [1, 0.8967618544462385, 1.0, 1, 1, 1, 1, 1, 1, 1, 1, 1, 0], [0, 0.11073707186581468, 0.0, 1, 1, 0, 0, 0, 0, 0, 0, 0, 0], [0, 0.4850237064547425, 0.0, 1, 1, 1, 1, 1, 0, 0, 0, 0, 0], [0, 0.16153732595748502, 0.0, 1, 1, 0, 0, 0, 0, 0, 0, 0, 0], [0, 0.24396039950374945, 0.0, 1, 1, 1, 0, 0, 0, 0, 0, 0, 0], [0, 0.2226817649568814, 0.0, 1, 1, 1, 0, 0, 0, 0, 0, 0, 0], [0, 0.6120227826508906, 1.0, 1, 1, 1, 1, 1, 1, 1, 0, 0, 0], [1, 0.8634646941152636, 1.0, 1, 1, 1, 1, 1, 1, 1, 1, 1, 0], [0, 0.11073707186581468, 0.0, 1, 1, 0, 0, 0, 0, 0, 0, 0, 0], [0, 0.378405036518038, 0.0, 1, 1, 1, 1, 0, 0, 0, 0, 0, 0], [0, 0.30710139713295753, 0.0, 1, 1, 1, 1, 0, 0, 0, 0, 0, 0], [0, 0.19642383579302505, 0.0, 1, 1, 0, 0, 0, 0, 0, 0, 0, 0], [1, 0.7484922754287904, 1.0, 1, 1, 1, 1, 1, 1, 1, 1, 0, 0], [1, 0.34186039502477056, 0.0, 1, 1, 1, 1, 0, 0, 0, 0, 0, 0], [1, 0.16698313616001473, 0.0, 1, 1, 0, 0, 0, 0, 0, 0, 0, 0], [0, 0.28237240086285526, 0.0, 1, 1, 1, 0, 0, 0, 0, 0, 0, 0], [0, 0.34186039502477056, 0.0, 1, 1, 1, 1, 0, 0, 0, 0, 0, 0], [0, 0.26657503447004294, 0.0, 1, 1, 1, 0, 0, 0, 0, 0, 0, 0], [0, 0.8891813756634047, 1.0, 1, 1, 1, 1, 1, 1, 1, 1, 1, 0], [0, 0.07180368236279487, 0.0, 1, 0, 0, 0, 0, 0, 0, 0, 0, 0], [0, 0.09604824680943871, 0.0, 1, 0, 0, 0, 0, 0, 0, 0, 0, 0], [1, 0.3508416138980204, 0.0, 1, 1, 1, 1, 0, 0, 0, 0, 0, 0], [1, 0.7558868685567749, 1.0, 1, 1, 1, 1, 1, 1, 1, 1, 0, 0], [0, 0.17257475038917489, 0.0, 1, 1, 0, 0, 0, 0, 0, 0, 0, 0], [0, 0.06426448007197605, 0.0, 1, 0, 0, 0, 0, 0, 0, 0, 0, 0], [0, 0.0037792703563152, 0.0, 1, 0, 0, 0, 0, 0, 0, 0, 0, 0], [0, 0.6306877562198698, 1.0, 1, 1, 1, 1, 1, 1, 1, 0, 0, 0], [0, 0.23671752801991397, 0.0, 1, 1, 1, 0, 0, 0, 0, 0, 0, 0], [1, 0.16698313616001473, 0.0, 1, 1, 0, 0, 0, 0, 0, 0, 0, 0], [1, 0.8273070005545844, 1.0, 1, 1, 1, 1, 1, 1, 1, 1, 1, 0], [0, 0.16698313616001473, 0.0, 1, 1, 0, 0, 0, 0, 0, 0, 0, 0], [0, 0.251351904559326, 0.0, 1, 1, 1, 0, 0, 0, 0, 0, 0, 0], [0, 0.20925007779285384, 0.0, 1, 1, 1, 0, 0, 0, 0, 0, 0, 0], [1, 0.7484922754287904, 1.0, 1, 1, 1, 1, 1, 1, 1, 1, 0, 0], [1, 0.701101909126846, 1.0, 1, 1, 1, 1, 1, 1, 1, 1, 0, 0], [0, 0.5640115671024828, 1.0, 1, 1, 1, 1, 1, 1, 0, 0, 0, 0], [0, 0.09954838861582574, 0.0, 1, 0, 0, 0, 0, 0, 0, 0, 0, 0], [0, 0.08937656972414218, 0.0, 1, 0, 0, 0, 0, 0, 0, 0, 0, 0], [0, 0.46523900769900495, 0.0, 1, 1, 1, 1, 1, 0, 0, 0, 0, 0], [0, 0.0926585069690675, 0.0, 1, 0, 0, 0, 0, 0, 0, 0, 0, 0], [0, 0.12301150623263402, 0.0, 1, 1, 0, 0, 0, 0, 0, 0, 0, 0], [0, 0.25889067083197603, 0.0, 1, 1, 1, 0, 0, 0, 0, 0, 0, 0], [0, 0.08015158810941674, 0.0, 1, 0, 0, 0, 0, 0, 0, 0, 0, 0], [0, 0.21589023420210285, 0.0, 1, 1, 1, 0, 0, 0, 0, 0, 0, 0], [0, 0.20276134138926122, 0.0, 1, 1, 1, 0, 0, 0, 0, 0, 0, 0], [1, 0.821565141139212, 1.0, 1, 1, 1, 1, 1, 1, 1, 1, 1, 0], [0, 0.17831352555764884, 0.0, 1, 1, 0, 0, 0, 0, 0, 0, 0, 0], [0, 0.16153732595748502, 0.0, 1, 1, 0, 0, 0, 0, 0, 0, 0, 0], [1, 0.7839695858345573, 1.0, 1, 1, 1, 1, 1, 1, 1, 1, 0, 0], [0, 0.2987246282501971, 0.0, 1, 1, 1, 0, 0, 0, 0, 0, 0, 0], [0, 0.16153732595748502, 0.0, 1, 1, 0, 0, 0, 0, 0, 0, 0, 0], [0, 0.20276134138926122, 0.0, 1, 1, 1, 0, 0, 0, 0, 0, 0, 0], [0, 0.28237240086285526, 0.0, 1, 1, 1, 0, 0, 0, 0, 0, 0, 0], [0, 0.25889067083197603, 0.0, 1, 1, 1, 0, 0, 0, 0, 0, 0, 0], [0, 0.19642383579302505, 0.0, 1, 1, 0, 0, 0, 0, 0, 0, 0, 0], [0, 0.2296243787076333, 0.0, 1, 1, 1, 0, 0, 0, 0, 0, 0, 0], [0, 0.5640115671024828, 1.0, 1, 1, 1, 1, 1, 1, 0, 0, 0, 0], [0, 0.21589023420210285, 0.0, 1, 1, 1, 0, 0, 0, 0, 0, 0, 0], [1, 0.7332630706860798, 1.0, 1, 1, 1, 1, 1, 1, 1, 1, 0, 0], [0, 0.2987246282501971, 0.0, 1, 1, 1, 0, 0, 0, 0, 0, 0, 0], [0, 0.2904805618450232, 0.0, 1, 1, 1, 0, 0, 0, 0, 0, 0, 0], [0, 0.1411798521246068, 0.0, 1, 1, 0, 0, 0, 0, 0, 0, 0, 0], [1, 0.4357848628482547, 0.0, 1, 1, 1, 1, 1, 0, 0, 0, 0, 0], [0, 0.3242386507762252, 0.0, 1, 1, 1, 1, 0, 0, 0, 0, 0, 0], [0, 0.4850237064547425, 0.0, 1, 1, 1, 1, 1, 0, 0, 0, 0, 0], [1, 0.5048554568353425, 1.0, 1, 1, 1, 1, 1, 1, 0, 0, 0, 0], [0, 0.16698313616001473, 0.0, 1, 1, 0, 0, 0, 0, 0, 0, 0, 0], [0, 0.13183044590810827, 0.0, 1, 1, 0, 0, 0, 0, 0, 0, 0, 0], [0, 0.11879523318627286, 0.0, 1, 1, 0, 0, 0, 0, 0, 0, 0, 0], [0, 0.16698313616001473, 0.0, 1, 1, 0, 0, 0, 0, 0, 0, 0, 0], [1, 0.848816856386869, 1.0, 1, 1, 1, 1, 1, 1, 1, 1, 1, 0], [0, 0.15107693349627124, 0.0, 1, 1, 0, 0, 0, 0, 0, 0, 0, 0], [1, 0.8436550217695953, 1.0, 1, 1, 1, 1, 1, 1, 1, 1, 1, 0], [1, 0.0037792703563152, 0.0, 1, 0, 0, 0, 0, 0, 0, 0, 0, 0], [1, 0.47512159465583775, 0.0, 1, 1, 1, 1, 1, 0, 0, 0, 0, 0], [0, 0.45538363709488267, 0.0, 1, 1, 1, 1, 1, 0, 0, 0, 0, 0], [0, 0.38778065177666204, 0.0, 1, 1, 1, 1, 0, 0, 0, 0, 0, 0], [0, 0.514769503558071, 1.0, 1, 1, 1, 1, 1, 1, 0, 0, 0, 0], [1, 0.8096352848308564, 1.0, 1, 1, 1, 1, 1, 1, 1, 1, 1, 0], [0, 0.2226817649568814, 0.0, 1, 1, 1, 0, 0, 0, 0, 0, 0, 0], [0, 0.1273557957793171, 0.0, 1, 1, 0, 0, 0, 0, 0, 0, 0, 0], [0, 0.06669182718589378, 0.0, 1, 0, 0, 0, 0, 0, 0, 0, 0, 0], [0, 0.3508416138980204, 0.0, 1, 1, 1, 1, 0, 0, 0, 0, 0, 0], [1, 0.2904805618450232, 0.0, 1, 1, 1, 0, 0, 0, 0, 0, 0, 0], [1, 0.1411798521246068, 0.0, 1, 1, 0, 0, 0, 0, 0, 0, 0, 0], [0, 0.20925007779285384, 0.0, 1, 1, 1, 0, 0, 0, 0, 0, 0, 0], [1, 0.4455630893737339, 0.0, 1, 1, 1, 1, 1, 0, 0, 0, 0, 0], [1, 0.15107693349627124, 0.0, 1, 1, 0, 0, 0, 0, 0, 0, 0, 0], [0, 0.20925007779285384, 0.0, 1, 1, 1, 0, 0, 0, 0, 0, 0, 0], [1, 0.2987246282501971, 0.0, 1, 1, 1, 0, 0, 0, 0, 0, 0, 0], [0, 0.17257475038917489, 0.0, 1, 1, 0, 0, 0, 0, 0, 0, 0, 0], [0, 0.6398795031544916, 1.0, 1, 1, 1, 1, 1, 1, 1, 0, 0, 0], [1, 0.2987246282501971, 0.0, 1, 1, 1, 0, 0, 0, 0, 0, 0, 0], [0, 0.6025616414600314, 1.0, 1, 1, 1, 1, 1, 1, 1, 0, 0, 0], [1, 0.8329016724344045, 1.0, 1, 1, 1, 1, 1, 1, 1, 1, 1, 0], [0, 0.378405036518038, 0.0, 1, 1, 1, 1, 0, 0, 0, 0, 0, 0], [0, 0.20925007779285384, 0.0, 1, 1, 1, 0, 0, 0, 0, 0, 0, 0], [0, 0.1411798521246068, 0.0, 1, 1, 0, 0, 0, 0, 0, 0, 0, 0], [0, 0.15107693349627124, 0.0, 1, 1, 0, 0, 0, 0, 0, 0, 0, 0], [1, 0.7771748984261558, 1.0, 1, 1, 1, 1, 1, 1, 1, 1, 0, 0], [0, 0.2296243787076333, 0.0, 1, 1, 1, 0, 0, 0, 0, 0, 0, 0], [0, 0.34186039502477056, 0.0, 1, 1, 1, 1, 0, 0, 0, 0, 0, 0], [0, 0.17257475038917489, 0.0, 1, 1, 0, 0, 0, 0, 0, 0, 0, 0], [1, 0.38778065177666204, 0.0, 1, 1, 1, 1, 0, 0, 0, 0, 0, 0], [0, 0.12301150623263402, 0.0, 1, 1, 0, 0, 0, 0, 0, 0, 0, 0], [0, 0.16698313616001473, 0.0, 1, 1, 0, 0, 0, 0, 0, 0, 0, 0], [0, 0.19642383579302505, 0.0, 1, 1, 0, 0, 0, 0, 0, 0, 0, 0], [0, 0.17257475038917489, 0.0, 1, 1, 0, 0, 0, 0, 0, 0, 0, 0], [0, 0.23671752801991397, 0.0, 1, 1, 1, 0, 0, 0, 0, 0, 0, 0], [1, 0.26657503447004294, 0.0, 1, 1, 1, 0, 0, 0, 0, 0, 0, 0], [0, 0.3508416138980204, 0.0, 1, 1, 1, 1, 0, 0, 0, 0, 0, 0], [1, 0.2226817649568814, 0.0, 1, 1, 1, 0, 0, 0, 0, 0, 0, 0], [0, 0.04250388199272334, 0.0, 1, 0, 0, 0, 0, 0, 0, 0, 0, 0], [0, 0.17831352555764884, 0.0, 1, 1, 0, 0, 0, 0, 0, 0, 0, 0], [0, 0.3508416138980204, 0.0, 1, 1, 1, 1, 0, 0, 0, 0, 0, 0], [0, 0.5345550136269951, 1.0, 1, 1, 1, 1, 1, 1, 0, 0, 0, 0], [1, 0.17831352555764884, 0.0, 1, 1, 0, 0, 0, 0, 0, 0, 0, 0], [0, 0.514769503558071, 1.0, 1, 1, 1, 1, 1, 1, 0, 0, 0, 0], [1, 0.24396039950374945, 0.0, 1, 1, 1, 0, 0, 0, 0, 0, 0, 0], [1, 0.11879523318627286, 0.0, 1, 1, 0, 0, 0, 0, 0, 0, 0, 0], [0, 0.47512159465583775, 0.0, 1, 1, 1, 1, 1, 0, 0, 0, 0, 0], [0, 0.10689023270450933, 0.0, 1, 1, 0, 0, 0, 0, 0, 0, 0, 0], [0, 0.09954838861582574, 0.0, 1, 0, 0, 0, 0, 0, 0, 0, 0, 0], [0, 0.3242386507762252, 0.0, 1, 1, 1, 1, 0, 0, 0, 0, 0, 0], [0, 0.7332630706860798, 1.0, 1, 1, 1, 1, 1, 1, 1, 1, 0, 0], [1, 0.0037792703563152, 0.0, 1, 0, 0, 0, 0, 0, 0, 0, 0, 0], [1, 0.6025616414600314, 1.0, 1, 1, 1, 1, 1, 1, 1, 0, 0, 0], [1, 0.6668249406686096, 1.0, 1, 1, 1, 1, 1, 1, 1, 0, 0, 0], [0, 0.821565141139212, 1.0, 1, 1, 1, 1, 1, 1, 1, 1, 1, 0], [0, 0.11879523318627286, 0.0, 1, 1, 0, 0, 0, 0, 0, 0, 0, 0], [0, 0.3156073495258587, 0.0, 1, 1, 1, 1, 0, 0, 0, 0, 0, 0], [1, 0.3242386507762252, 0.0, 1, 1, 1, 1, 0, 0, 0, 0, 0, 0], [0, 0.1842006532845772, 0.0, 1, 1, 0, 0, 0, 0, 0, 0, 0, 0], [0, 0.30710139713295753, 0.0, 1, 1, 1, 1, 0, 0, 0, 0, 0, 0], [1, 0.8930307070524484, 1.0, 1, 1, 1, 1, 1, 1, 1, 1, 1, 0], [1, 0.8725521669258534, 1.0, 1, 1, 1, 1, 1, 1, 1, 1, 1, 0], [1, 0.5737412160481735, 1.0, 1, 1, 1, 1, 1, 1, 0, 0, 0, 0], [1, 0.38778065177666204, 0.0, 1, 1, 1, 1, 0, 0, 0, 0, 0, 0], [0, 0.46523900769900495, 0.0, 1, 1, 1, 1, 1, 0, 0, 0, 0, 0], [0, 0.274403033278873, 0.0, 1, 1, 1, 0, 0, 0, 0, 0, 0, 0], [0, 0.16153732595748502, 0.0, 1, 1, 0, 0, 0, 0, 0, 0, 0, 0], [0, 0.1411798521246068, 0.0, 1, 1, 0, 0, 0, 0, 0, 0, 0, 0], [0, 0.3242386507762252, 0.0, 1, 1, 1, 1, 0, 0, 0, 0, 0, 0], [1, 0.20925007779285384, 0.0, 1, 1, 1, 0, 0, 0, 0, 0, 0, 0], [0, 0.2226817649568814, 0.0, 1, 1, 1, 0, 0, 0, 0, 0, 0, 0], [1, 0.24396039950374945, 0.0, 1, 1, 1, 0, 0, 0, 0, 0, 0, 0], [0, 0.10689023270450933, 0.0, 1, 1, 0, 0, 0, 0, 0, 0, 0, 0], [1, 0.34186039502477056, 0.0, 1, 1, 1, 1, 0, 0, 0, 0, 0, 0], [0, 0.0596548610024339, 0.0, 1, 0, 0, 0, 0, 0, 0, 0, 0, 0], [0, 0.17831352555764884, 0.0, 1, 1, 0, 0, 0, 0, 0, 0, 0, 0], [0, 0.5640115671024828, 1.0, 1, 1, 1, 1, 1, 1, 0, 0, 0, 0], [1, 0.6755799250100438, 1.0, 1, 1, 1, 1, 1, 1, 1, 0, 0, 0], [0, 0.20276134138926122, 0.0, 1, 1, 1, 0, 0, 0, 0, 0, 0, 0], [0, 0.10689023270450933, 0.0, 1, 1, 0, 0, 0, 0, 0, 0, 0, 0], [0, 0.17257475038917489, 0.0, 1, 1, 0, 0, 0, 0, 0, 0, 0, 0], [1, 0.26657503447004294, 0.0, 1, 1, 1, 0, 0, 0, 0, 0, 0, 0], [1, 0.42605632508733793, 0.0, 1, 1, 1, 1, 1, 0, 0, 0, 0, 0], [1, 0.7174598062478458, 1.0, 1, 1, 1, 1, 1, 1, 1, 1, 0, 0], [1, 0.6927224073890204, 1.0, 1, 1, 1, 1, 1, 1, 1, 0, 0, 0], [0, 0.2987246282501971, 0.0, 1, 1, 1, 0, 0, 0, 0, 0, 0, 0], [0, 0.5048554568353425, 1.0, 1, 1, 1, 1, 1, 1, 0, 0, 0, 0], [0, 0.06191961851993544, 0.0, 1, 0, 0, 0, 0, 0, 0, 0, 0, 0], [0, 0.35992974459642874, 0.0, 1, 1, 1, 1, 0, 0, 0, 0, 0, 0], [0, 0.053317980306408094, 0.0, 1, 0, 0, 0, 0, 0, 0, 0, 0, 0], [1, 0.8436550217695953, 1.0, 1, 1, 1, 1, 1, 1, 1, 1, 1, 0], [0, 0.28237240086285526, 0.0, 1, 1, 1, 0, 0, 0, 0, 0, 0, 0], [1, 0.514769503558071, 1.0, 1, 1, 1, 1, 1, 1, 0, 0, 0, 0], [1, 0.8383505103617777, 1.0, 1, 1, 1, 1, 1, 1, 1, 1, 1, 0], [0, 0.08312570304746901, 0.0, 1, 0, 0, 0, 0, 0, 0, 0, 0, 0], [0, 0.11470457313861519, 0.0, 1, 1, 0, 0, 0, 0, 0, 0, 0, 0], [0, 0.19642383579302505, 0.0, 1, 1, 0, 0, 0, 0, 0, 0, 0, 0], [0, 0.3508416138980204, 0.0, 1, 1, 1, 1, 0, 0, 0, 0, 0, 0], [1, 0.5930232029369533, 1.0, 1, 1, 1, 1, 1, 1, 0, 0, 0, 0], [1, 0.46523900769900495, 0.0, 1, 1, 1, 1, 1, 0, 0, 0, 0, 0], [1, 0.7484922754287904, 1.0, 1, 1, 1, 1, 1, 1, 1, 1, 0, 0], [0, 0.28237240086285526, 0.0, 1, 1, 1, 0, 0, 0, 0, 0, 0, 0], [0, 0.20276134138926122, 0.0, 1, 1, 1, 0, 0, 0, 0, 0, 0, 0], [1, 0.7839695858345573, 1.0, 1, 1, 1, 1, 1, 1, 1, 1, 0, 0], [1, 0.23671752801991397, 0.0, 1, 1, 1, 0, 0, 0, 0, 0, 0, 0], [1, 0.274403033278873, 0.0, 1, 1, 1, 0, 0, 0, 0, 0, 0, 0], [0, 0.20276134138926122, 0.0, 1, 1, 1, 0, 0, 0, 0, 0, 0, 0], [1, 0.4357848628482547, 0.0, 1, 1, 1, 1, 1, 0, 0, 0, 0, 0], [0, 0.20925007779285384, 0.0, 1, 1, 1, 0, 0, 0, 0, 0, 0, 0], [0, 0.39724011077225435, 0.0, 1, 1, 1, 1, 0, 0, 0, 0, 0, 0], [0, 0.07727491433857707, 0.0, 1, 0, 0, 0, 0, 0, 0, 0, 0, 0], [0, 0.16153732595748502, 0.0, 1, 1, 0, 0, 0, 0, 0, 0, 0, 0], [0, 0.903879849053845, 1.0, 1, 1, 1, 1, 1, 1, 1, 1, 1, 1], [1, 0.6398795031544916, 1.0, 1, 1, 1, 1, 1, 1, 1, 0, 0, 0], [1, 0.5542323816554746, 1.0, 1, 1, 1, 1, 1, 1, 0, 0, 0, 0], [0, 0.21589023420210285, 0.0, 1, 1, 1, 0, 0, 0, 0, 0, 0, 0], [0, 0.15107693349627124, 0.0, 1, 1, 0, 0, 0, 0, 0, 0, 0, 0], [0, 0.16153732595748502, 0.0, 1, 1, 0, 0, 0, 0, 0, 0, 0, 0], [0, 0.42605632508733793, 0.0, 1, 1, 1, 1, 1, 0, 0, 0, 0, 0], [1, 0.8034454555607858, 1.0, 1, 1, 1, 1, 1, 1, 1, 1, 1, 0], [0, 0.1273557957793171, 0.0, 1, 1, 0, 0, 0, 0, 0, 0, 0, 0], [0, 0.24396039950374945, 0.0, 1, 1, 1, 0, 0, 0, 0, 0, 0, 0], [0, 0.053317980306408094, 0.0, 1, 0, 0, 0, 0, 0, 0, 0, 0, 0]]\n",
            "Verification check: At 0.5 cutoff, predicted Class0 (No Diabetes): 405 Class1 (Diabetes):132\n"
          ]
        }
      ]
    },
    {
      "cell_type": "code",
      "metadata": {
        "colab": {
          "base_uri": "https://localhost:8080/",
          "height": 786
        },
        "id": "92K1gNsFKIQZ",
        "outputId": "8b7fca48-253c-40d1-97ea-3b633ae491a1"
      },
      "source": [
        "y_predicted_at_cutoffs_df = pd.DataFrame(y_predicted_at_cutoffs, columns = ['y_train','y_pred_prob','y_predicted'] + numbers)\n",
        "print(y_predicted_at_cutoffs_df.head(10))\n",
        "\n",
        "cutoff_df = pd.DataFrame( columns = ['Probability','Accuracy','Sensitivity','Specificity'])\n",
        "\n",
        "for icols in numbers:\n",
        "    cm1 = metrics.confusion_matrix(y_predicted_at_cutoffs_df['y_train'], y_predicted_at_cutoffs_df[icols])\n",
        "    total1 = sum(sum(cm1))\n",
        "    accuracy = (cm1[0,0]+cm1[1,1])/total1\n",
        "    specificity = cm1[0,0]/(cm1[0,0]+cm1[0,1])\n",
        "    sensitivity = cm1[1,1]/(cm1[1,0]+cm1[1,1])\n",
        "    cutoff_df.loc[icols] =[icols, accuracy, sensitivity, specificity]\n",
        "    \n",
        "    # calculate the cutoff, and the accuracy, senstivity,and specificity at the cutoff.    \n",
        "    if (icols == 0.5):\n",
        "      print('Verification step: i, Specificity/Senstivity/Accuracy:', icols, round(specificity, 3), round(sensitivity, 3), round(accuracy, 3))\n",
        "\n",
        "\n",
        "# gca stands for 'get current axis'\n",
        "ax = plt.gca()\n",
        "\n",
        "cutoff_df.plot(kind='line',x='Probability',y='Accuracy', color='blue', ax=ax)\n",
        "cutoff_df.plot(kind='line',x='Probability',y='Sensitivity', color='red', ax=ax)\n",
        "cutoff_df.plot(kind='line',x='Probability',y='Specificity', color='green', ax=ax)\n",
        "\n",
        "plt.show()\n",
        "\n",
        "print(cutoff_df)\n",
        "\n",
        "\n",
        "\n"
      ],
      "execution_count": 12,
      "outputs": [
        {
          "output_type": "stream",
          "name": "stdout",
          "text": [
            "   y_train  y_pred_prob  y_predicted  0.0  0.1  ...  0.5  0.6  0.7  0.8  0.9\n",
            "0        1     0.612023          1.0    1    1  ...    1    1    0    0    0\n",
            "1        0     0.455384          0.0    1    1  ...    0    0    0    0    0\n",
            "2        1     0.406777          0.0    1    1  ...    0    0    0    0    0\n",
            "3        1     0.350842          0.0    1    1  ...    0    0    0    0    0\n",
            "4        0     0.215890          0.0    1    1  ...    0    0    0    0    0\n",
            "5        1     0.243960          0.0    1    1  ...    0    0    0    0    0\n",
            "6        1     0.602562          1.0    1    1  ...    1    1    0    0    0\n",
            "7        0     0.003779          0.0    1    0  ...    0    0    0    0    0\n",
            "8        0     0.282372          0.0    1    1  ...    0    0    0    0    0\n",
            "9        0     0.236718          0.0    1    1  ...    0    0    0    0    0\n",
            "\n",
            "[10 rows x 13 columns]\n",
            "Verification step: i, Specificity/Senstivity/Accuracy: 0.5 0.883 0.487 0.745\n"
          ]
        },
        {
          "output_type": "display_data",
          "data": {
            "image/png": "[encoded data removed]",
            "text/plain": [
              "<Figure size 576x396 with 1 Axes>"
            ]
          },
          "metadata": {}
        },
        {
          "output_type": "stream",
          "name": "stdout",
          "text": [
            "     Probability  Accuracy  Sensitivity  Specificity\n",
            "0.0          0.0  0.348231     1.000000     0.000000\n",
            "0.1          0.1  0.432030     0.983957     0.137143\n",
            "0.2          0.2  0.618250     0.898396     0.468571\n",
            "0.3          0.3  0.718808     0.754011     0.700000\n",
            "0.4          0.4  0.744879     0.604278     0.820000\n",
            "0.5          0.5  0.744879     0.486631     0.882857\n",
            "0.6          0.6  0.743017     0.390374     0.931429\n",
            "0.7          0.7  0.739292     0.304813     0.971429\n",
            "0.8          0.8  0.694600     0.155080     0.982857\n",
            "0.9          0.9  0.655493     0.016043     0.997143\n"
          ]
        }
      ]
    }
  ]
}