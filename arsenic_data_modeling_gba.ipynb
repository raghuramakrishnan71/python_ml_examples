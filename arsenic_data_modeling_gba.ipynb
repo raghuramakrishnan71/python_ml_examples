{
  "nbformat": 4,
  "nbformat_minor": 0,
  "metadata": {
    "colab": {
      "name": "arsenic_data_modeling_gba.ipynb",
      "provenance": [],
      "collapsed_sections": []
    },
    "kernelspec": {
      "name": "python3",
      "display_name": "Python 3"
    },
    "language_info": {
      "name": "python"
    }
  },
  "cells": [
    {
      "cell_type": "code",
      "metadata": {
        "colab": {
          "base_uri": "https://localhost:8080/"
        },
        "id": "6NReQVJGmgvR",
        "outputId": "c0c290c2-16a7-4ab2-aa10-9c58ea8ace15"
      },
      "source": [
        "from google.colab import drive\n",
        "drive.mount('/content/drive')"
      ],
      "execution_count": 1,
      "outputs": [
        {
          "output_type": "stream",
          "name": "stdout",
          "text": [
            "Mounted at /content/drive\n"
          ]
        }
      ]
    },
    {
      "cell_type": "code",
      "metadata": {
        "id": "h7PgTb7DmmDf",
        "colab": {
          "base_uri": "https://localhost:8080/"
        },
        "outputId": "f1ffd9d5-95da-434e-c688-0afba2e59d34"
      },
      "source": [
        "################################# Required packages ############################\n",
        "# To work with dataframes\n",
        "import pandas as pd \n",
        "\n",
        "# To perform numerical operations\n",
        "import numpy as np\n",
        "\n",
        "# To draw graphs\n",
        "import matplotlib.pyplot as plt\n",
        "\n",
        "# To visualize data\n",
        "import seaborn as sns\n",
        "\n",
        "# importing the library of KNN\n",
        "from sklearn.neighbors import KNeighborsClassifier  \n",
        "\n",
        "# To partition the data\n",
        "from sklearn.model_selection import train_test_split\n",
        "\n",
        "# Importing performance metrics - accuracy score & confusion matrix\n",
        "from sklearn import metrics\n",
        "\n",
        "# To generate ROC curve\n",
        "from sklearn.metrics import roc_curve\n",
        "\n",
        "# To calculate AUC score\n",
        "from sklearn.metrics import roc_auc_score\n",
        "\n",
        "# importing library of binary classifier\n",
        "import statsmodels.api as sm\n",
        "\n",
        "# To calculate confusion matrix\n",
        "from sklearn.metrics import confusion_matrix\n",
        "\n",
        "# Complete sklearn\n",
        "import sklearn\n",
        "\n",
        "# Gradient boosting classifier\n",
        "from sklearn.ensemble import GradientBoostingClassifier\n",
        "\n",
        "# LinearDiscriminant analysis classifier\n",
        "from sklearn.discriminant_analysis import LinearDiscriminantAnalysis\n",
        "\n",
        "# Support vector machine classifier\n",
        "from sklearn import svm\n",
        "\n",
        "# To perform mathematical operations\n",
        "import math\n",
        "\n",
        "# To findout correlation\n",
        "from scipy.stats import kendalltau\n",
        "\n",
        "# binary classifier\n",
        "import statsmodels.api as sm"
      ],
      "execution_count": 2,
      "outputs": [
        {
          "output_type": "stream",
          "name": "stderr",
          "text": [
            "/usr/local/lib/python3.7/dist-packages/statsmodels/tools/_testing.py:19: FutureWarning: pandas.util.testing is deprecated. Use the functions in the public API at pandas.testing instead.\n",
            "  import pandas.util.testing as tm\n"
          ]
        }
      ]
    },
    {
      "cell_type": "code",
      "metadata": {
        "id": "-AkBwHi6q7BV"
      },
      "source": [
        "# equal frequency\n",
        "def makeequifreqbins(x_arr, y_arr, threshold, no_of_bins):   \n",
        "  a = len(x_arr)\n",
        "  n = int(a / no_of_bins)\n",
        "  \n",
        "  for i in range(0, no_of_bins):\n",
        "    bin_arr = []\n",
        "    total_val_in_bin = 0\n",
        "    total_val_gt_threshold = 0\n",
        "    for j in range(i * n, (i + 1) * n):\n",
        "      if j >= a:\n",
        "        break\n",
        "      bin_arr = bin_arr + [x_arr[j]]\n",
        "    print(bin_arr)\n",
        "\n",
        "\n",
        "# modified equal bin width creation\n",
        "def makeequiwidthbins(x_arr, y_arr, threshold, no_of_bins):\n",
        "    #print('No of bins:', no_of_bins)\n",
        "\n",
        "    if (no_of_bins == 0):\n",
        "      return [x_arr, y_arr]\n",
        "\n",
        "    width = round((max(x_arr) - min(x_arr)) / no_of_bins)\n",
        "    #print('Width:', width)\n",
        "    min1 = min(x_arr)\n",
        "    bin_arr = []\n",
        "    for i in range(0, no_of_bins+2): #to include the max(x_arr) value\n",
        "        bin_arr = bin_arr + [min1 + width * i]\n",
        "    #print('Bin limits array', bin_arr)\n",
        "\n",
        "    arri = []\n",
        "    y_proportion = []\n",
        "    \n",
        "    for i in range(0, no_of_bins+1):\n",
        "        temp1 = []\n",
        "        total_val_in_bin = 0\n",
        "        total_val_gt_threshold = 0\n",
        "        index = 0\n",
        "        for x_val in x_arr:\n",
        "            if x_val >= bin_arr[i] and x_val < bin_arr[i+1]:\n",
        "              total_val_in_bin += 1\n",
        "              if y_arr[index] > threshold:\n",
        "                #print(index, x_val, y_arr[index], y_arr[index] > threshold)\n",
        "                temp1 += [y_arr[index]]\n",
        "                total_val_gt_threshold += 1    \n",
        "            index += 1\n",
        "\n",
        "        arri += [temp1]\n",
        "        #print('No of observations in the bin greater than threshold: ', i, bin_arr[i], bin_arr[i+1], total_val_gt_threshold)\n",
        "        #print('No of observations in the bin: ', i, total_val_in_bin)\n",
        "        if (total_val_in_bin != 0): # to avoid 0/0 error\n",
        "          y_proportion += [round(total_val_gt_threshold/total_val_in_bin, 2)]\n",
        "        else:\n",
        "          y_proportion += [0]\n",
        "\n",
        "    #print('Proportion array:', y_proportion)\n",
        "    #print('Elements in each bin\\n', arri)\n",
        "    return [np.delete(bin_arr, no_of_bins+1), y_proportion]\n",
        "    \n"
      ],
      "execution_count": 3,
      "outputs": []
    },
    {
      "cell_type": "code",
      "metadata": {
        "id": "uwMxjHSGCOSF"
      },
      "source": [
        "def scatterplot(n, x_arr, y_arr, x_label, title_label, save_file):\n",
        "  # plotting the points\n",
        "  plt.scatter(x_arr, y_arr, color='b')\n",
        "  \n",
        "  maxx = max(x_arr)\n",
        "  maxy = max(y_arr)\n",
        "\n",
        "  # setting y axis range\n",
        "  plt.ylim(0, maxy)\n",
        "\n",
        "  # resetting y axis range\n",
        "  plt.ylim(0, maxy)\n",
        "  \n",
        "  # naming the x axis\n",
        "  plt.xlabel(x_label)\n",
        "\n",
        "  # naming the y axis\n",
        "  plt.ylabel('Proportion As > 10μg/L')\n",
        "  \n",
        "  # giving a title to my graph\n",
        "  plt.title(title_label)\n",
        "  \n",
        "  #plt.text(info_pos[0][0], info_pos[0][1], info_label[0], ha='right', va='top',\n",
        "  \n",
        "  # function to show the plot\n",
        "  plt.show()\n",
        "\n",
        "  # Saving the figure.\n",
        "  plt.savefig(save_file)"
      ],
      "execution_count": 4,
      "outputs": []
    },
    {
      "cell_type": "code",
      "metadata": {
        "id": "-POOTM3UmpyG",
        "colab": {
          "base_uri": "https://localhost:8080/"
        },
        "outputId": "3d1bd109-0f3c-4476-baf7-5989a2e18577"
      },
      "source": [
        "# path\n",
        "dataset_path = \"/content/drive/MyDrive/arsenic_analysis/\"\n",
        "\n",
        "# Reading data\n",
        "as_df = pd.read_csv(dataset_path + \"arsenic_data_gd.csv\")\n",
        "\n",
        "#**** To check variables' data type\n",
        "#print(df.info())\n",
        "\n",
        "#**** Check for missing values.            \n",
        "as_df.isnull()          \n",
        "\n",
        "#**** How many rows contain missing values? \n",
        "#print('Data columns with null values:\\n', df.isnull().sum())\n",
        "\n",
        "as_df_copy1 = as_df.copy()\n",
        "\n",
        "# Storing the column names \n",
        "columns_list=list(as_df_copy1.columns)\n",
        "print(columns_list)\n",
        "\n",
        "#drop unwanted columns\n",
        "as_df_copy2 = as_df_copy1.drop(columns =['S__No_n', 'State', 'District', 'location', 'Lat', 'log', 'Tp_Slt', 'Source'], axis = 1)\n",
        "\n",
        "#create a categorical variable for Arsenic. If As < 10, then 1 else 0\n",
        "as_df_copy2['As_ug_cat'] = np.where(as_df_copy2['As_ug'] > 10, 1, 0)\n",
        "\n",
        "print(as_df_copy2.head(15))\n",
        "print('Shape of new dataframe (as_df_copy2): ', as_df_copy2.shape, type(as_df_copy2))\n"
      ],
      "execution_count": 5,
      "outputs": [
        {
          "output_type": "stream",
          "name": "stdout",
          "text": [
            "['S__No_n', 'State', 'District', 'location', 'Lat', 'log', 'As_ug', 'Source', 'Slope', 'Fluvisols', 'Tp_Clay', 'Sb_Clay', 'Tp_Slt', 'Sb_Slt', 'Tp_pH', 'Sb_pH', 'Tp_car', 'Sb_Car', 'Tp_sand', 'Sb_sand', 'ETP', 'Elevation', 'mos_lulc_1', 'buffer_rv', 'river_lgp', 'Grav_', 'twi', 'mosaic_srt', 'india_geol', 'MONSOON', 'POMRB', 'POMKH', 'PREMON', 'Average']\n",
            "    As_ug     Slope  Fluvisols  Tp_Clay  ...  POMKH  PREMON  Average  As_ug_cat\n",
            "0     500  1.277690          4        0  ...   5.00   -1.00     2.00          1\n",
            "1     350  1.050310          4        0  ...   0.04    0.01     0.47          1\n",
            "2     325  0.638925          5        0  ...   0.04    0.01     0.47          1\n",
            "3     425  1.197500          4        0  ...   0.04    0.01     0.49          1\n",
            "4     300  0.704614          3        0  ...   0.04    0.01     0.47          1\n",
            "5     250  1.514600          5        0  ...   0.04    0.01     0.48          1\n",
            "6     200  0.535600          2        0  ...   0.04    0.01     0.49          1\n",
            "7     200  0.525200          2        0  ...   0.04    0.01     0.48          1\n",
            "8     200  0.630232          3        0  ...   0.04    0.01     0.51          1\n",
            "9     200  0.378732          3        0  ...   0.04    0.01     0.49          1\n",
            "10    150  1.575250          4        0  ...   0.04    0.01     0.48          1\n",
            "11    150  1.458990          4        0  ...   0.04    0.01     0.51          1\n",
            "12    120  0.234882          3        0  ...   0.04    0.01     0.48          1\n",
            "13    140  0.315126          2        0  ...   0.04    0.01     0.48          1\n",
            "14     88  0.897414          3        0  ...   0.04    0.01     0.50          1\n",
            "\n",
            "[15 rows x 27 columns]\n",
            "Shape of new dataframe (as_df_copy2):  (11498, 27) <class 'pandas.core.frame.DataFrame'>\n"
          ]
        }
      ]
    },
    {
      "cell_type": "code",
      "metadata": {
        "colab": {
          "base_uri": "https://localhost:8080/"
        },
        "id": "NOjAphvrrXiM",
        "outputId": "1975bc26-0486-43d8-89a3-b4af10e65600"
      },
      "source": [
        "n = len(as_df_copy2)\n",
        "print('Dataset size: ', n)\n",
        "\n",
        "sturges_m = 1 + 3.322 * math.log(n)\n",
        "rice_m = (n ** (1. / 3)) * 2\n",
        "\n",
        "print('Sturges bin size: ', math.floor(sturges_m))\n",
        "print('Rice bin size: ', rice_m)\n",
        "\n",
        "no_of_bins = math.floor(rice_m)\n",
        "print('No of bins: ', no_of_bins)"
      ],
      "execution_count": 6,
      "outputs": [
        {
          "output_type": "stream",
          "name": "stdout",
          "text": [
            "Dataset size:  11498\n",
            "Sturges bin size:  32\n",
            "Rice bin size:  45.14095718421094\n",
            "No of bins:  45\n"
          ]
        }
      ]
    },
    {
      "cell_type": "code",
      "metadata": {
        "id": "9Ehl584wrcqY",
        "colab": {
          "base_uri": "https://localhost:8080/"
        },
        "outputId": "8a287f4e-e837-482c-e3f4-d7e14d3ab118"
      },
      "source": [
        "threshold = 10\n",
        "\n",
        "as_df_copy3 = as_df_copy2.copy()\n",
        "#df_copy3['india_geol'] = df_copy3['india_geol'].astype('category',copy=False)\n",
        "\n",
        "# Perform dummy encoding on the categorical columns of data\n",
        "#df_copy4 = pd.get_dummies(df_copy3)\n",
        "as_df_copy4 = as_df_copy3.copy()\n",
        "\n",
        "#**** To recheck variables' data type\n",
        "print(as_df_copy4.info())\n",
        "\n",
        "print('Columns: ', as_df_copy4.columns)"
      ],
      "execution_count": 7,
      "outputs": [
        {
          "output_type": "stream",
          "name": "stdout",
          "text": [
            "<class 'pandas.core.frame.DataFrame'>\n",
            "RangeIndex: 11498 entries, 0 to 11497\n",
            "Data columns (total 27 columns):\n",
            " #   Column      Non-Null Count  Dtype  \n",
            "---  ------      --------------  -----  \n",
            " 0   As_ug       11498 non-null  int64  \n",
            " 1   Slope       11498 non-null  float64\n",
            " 2   Fluvisols   11498 non-null  int64  \n",
            " 3   Tp_Clay     11498 non-null  int64  \n",
            " 4   Sb_Clay     11498 non-null  int64  \n",
            " 5   Sb_Slt      11498 non-null  int64  \n",
            " 6   Tp_pH       11498 non-null  float64\n",
            " 7   Sb_pH       11498 non-null  int64  \n",
            " 8   Tp_car      11498 non-null  int64  \n",
            " 9   Sb_Car      11498 non-null  int64  \n",
            " 10  Tp_sand     11498 non-null  int64  \n",
            " 11  Sb_sand     11498 non-null  int64  \n",
            " 12  ETP         11498 non-null  int64  \n",
            " 13  Elevation   11498 non-null  int64  \n",
            " 14  mos_lulc_1  11498 non-null  int64  \n",
            " 15  buffer_rv   11498 non-null  int64  \n",
            " 16  river_lgp   11498 non-null  int64  \n",
            " 17  Grav_       11498 non-null  float64\n",
            " 18  twi         11498 non-null  float64\n",
            " 19  mosaic_srt  11498 non-null  int64  \n",
            " 20  india_geol  11498 non-null  int64  \n",
            " 21  MONSOON     11498 non-null  float64\n",
            " 22  POMRB       11498 non-null  float64\n",
            " 23  POMKH       11498 non-null  float64\n",
            " 24  PREMON      11498 non-null  float64\n",
            " 25  Average     11498 non-null  float64\n",
            " 26  As_ug_cat   11498 non-null  int64  \n",
            "dtypes: float64(9), int64(18)\n",
            "memory usage: 2.4 MB\n",
            "None\n",
            "Columns:  Index(['As_ug', 'Slope', 'Fluvisols', 'Tp_Clay', 'Sb_Clay', 'Sb_Slt', 'Tp_pH',\n",
            "       'Sb_pH', 'Tp_car', 'Sb_Car', 'Tp_sand', 'Sb_sand', 'ETP', 'Elevation',\n",
            "       'mos_lulc_1', 'buffer_rv', 'river_lgp', 'Grav_', 'twi', 'mosaic_srt',\n",
            "       'india_geol', 'MONSOON', 'POMRB', 'POMKH', 'PREMON', 'Average',\n",
            "       'As_ug_cat'],\n",
            "      dtype='object')\n"
          ]
        }
      ]
    },
    {
      "cell_type": "code",
      "metadata": {
        "colab": {
          "base_uri": "https://localhost:8080/"
        },
        "id": "lG8kDsW-aXgO",
        "outputId": "c5c6db9c-64e9-4335-ed3d-d462b30b7be4"
      },
      "source": [
        "# Storing the output values in y\n",
        "\n",
        "#arsenic\n",
        "arsenic = as_df_copy3['As_ug_cat'].values\n",
        "print('As_ug_cat rows with null values: ', as_df_copy3['As_ug'].isnull().sum())\n",
        "\n",
        "#fluvisols\n",
        "fluvisols = as_df_copy3['Fluvisols'].values\n",
        "print('Fluvisol rows with null values: ', as_df_copy3['Fluvisols'].isnull().sum())\n",
        "\n",
        "threshold = 0\n",
        "\n",
        "tmp = [5, 10, 11, 13, 15, 35, 50, 55, 72, 92, 204, 215, 219, 222] \n",
        "\n",
        "#create bins of equal width\n",
        "makeequifreqbins(tmp, arsenic, threshold, 3)"
      ],
      "execution_count": 8,
      "outputs": [
        {
          "output_type": "stream",
          "name": "stdout",
          "text": [
            "As_ug_cat rows with null values:  0\n",
            "Fluvisol rows with null values:  0\n",
            "[5, 10, 11, 13]\n",
            "[15, 35, 50, 55]\n",
            "[72, 92, 204, 215]\n"
          ]
        }
      ]
    },
    {
      "cell_type": "markdown",
      "metadata": {
        "id": "-r2atOGJpaue"
      },
      "source": [
        "**Graphs**"
      ]
    },
    {
      "cell_type": "code",
      "metadata": {
        "id": "UY4BHb1spaM7",
        "colab": {
          "base_uri": "https://localhost:8080/",
          "height": 1000
        },
        "outputId": "2c66edd4-1f36-454e-b9e3-307dd39495f7"
      },
      "source": [
        "# Storing the output values in y\n",
        "\n",
        "#arsenic\n",
        "arsenic = as_df_copy3['As_ug_cat'].values\n",
        "print('As_ug_cat rows with null values: ', as_df_copy3['As_ug'].isnull().sum())\n",
        "\n",
        "#fluvisols\n",
        "fluvisols = as_df_copy3['Fluvisols'].values\n",
        "print('Fluvisol rows with null values: ', as_df_copy3['Fluvisols'].isnull().sum())\n",
        "\n",
        "#sb_clay\n",
        "sb_clay = as_df_copy3['Sb_Clay'].values\n",
        "print('Sb_Clay rows with null values: ', as_df_copy3['Sb_Clay'].isnull().sum())\n",
        "\n",
        "#sb_car\n",
        "sb_car = as_df_copy3['Sb_Car'].values\n",
        "print('Sb_Car rows with null values: ', as_df_copy3['Sb_Car'].isnull().sum())\n",
        "\n",
        "#slope\n",
        "slope = as_df_copy3['Slope'].values\n",
        "print('Slope rows with null values: ', as_df_copy3['Slope'].isnull().sum())\n",
        "\n",
        "#gw_level\n",
        "gw_level = as_df_copy3['Average'].values\n",
        "print('Groundwater level water rows with null values: ', as_df_copy3['Average'].isnull().sum())\n",
        "\n",
        "#geology\n",
        "geology = as_df_copy3['india_geol'].values\n",
        "print('India geology rows with null values: ', as_df_copy3['india_geol'].isnull().sum())\n",
        "\n",
        "#distance of the river\n",
        "river_dist = as_df_copy3['buffer_rv'].values\n",
        "print('Distance from river rows with null values: ', as_df_copy3['buffer_rv'].isnull().sum())\n",
        "\n",
        "threshold = 0\n",
        "\n",
        "#create bins of equal width\n",
        "x_arr, y_arr = makeequiwidthbins(sb_clay, arsenic, threshold, no_of_bins)\n",
        "kendcorr, kendp = kendalltau(x_arr, y_arr)\n",
        "print('n:', n, '| points:', len(y_arr), '| Kendall rank correlation :', round(kendcorr, 3), '| pvalue:', round(kendp, 2))\n",
        "scatterplot(n, x_arr, y_arr, 'Subsoil clay %', 'Subsoil clay vs Ag', dataset_path + \"sb_clay.jpg\")\n",
        "\n",
        "x = np.array(arsenic)\n",
        "print('Unique classes:', np.unique(x))\n",
        "\n",
        "x_arr, y_arr = makeequiwidthbins(fluvisols, arsenic, threshold, no_of_bins)\n",
        "kendcorr, kendp = kendalltau(x_arr, y_arr)\n",
        "print('n:', n, '| points:', len(y_arr), '| Kendall rank correlation :', round(kendcorr, 3), '| pvalue:', round(kendp, 2))\n",
        "scatterplot(n, x_arr, y_arr, 'Fluvisols %', 'Fluvisols vs Ag', dataset_path + \"fluvisols.jpg\")\n",
        "\n",
        "x_arr, y_arr = makeequiwidthbins(slope, arsenic, threshold, no_of_bins)\n",
        "kendcorr, kendp = kendalltau(x_arr, y_arr)\n",
        "print('n:', n, '| points:', len(y_arr), '| Kendall rank correlation :', round(kendcorr, 3), '| pvalue:', round(kendp, 2))\n",
        "scatterplot(n, x_arr, y_arr, 'Slope (degree)', 'Slope vs Ag', dataset_path + \"slope.jpg\")\n",
        "\n",
        "x_arr, y_arr = makeequiwidthbins(gw_level, arsenic, threshold, no_of_bins)\n",
        "kendcorr, kendp = kendalltau(x_arr, y_arr)\n",
        "print('n:', n, '| points:', len(y_arr), '| Kendall rank correlation :', round(kendcorr, 3), '| pvalue:', round(kendp, 2))\n",
        "scatterplot(n, x_arr, y_arr, 'Groundwater level (m)', 'Groundwater level vs Ag', dataset_path + \"gw_level.jpg\")\n",
        "\n",
        "#x_arr, y_arr = makeequiwidthbins(river_dist, arsenic, threshold, no_of_bins)\n",
        "#kendcorr, kendp = kendalltau(x_arr, y_arr)\n",
        "#print('n:', n, '| points:', len(y_arr), '| Kendall rank correlation :', round(kendcorr, 3), '| pvalue:', round(kendp, 2))\n",
        "#scatterplot(n, x_arr, y_arr, 'Distance from river (km) %', 'Distance from river vs Ag', dataset_path + \"river_dist.jpg\")\n",
        "\n",
        "x_arr, y_arr = makeequiwidthbins(sb_car, arsenic, threshold, no_of_bins)\n",
        "kendcorr, kendp = kendalltau(x_arr, y_arr)\n",
        "print('n:', n, '| points:', len(y_arr), '| Kendall rank correlation :', round(kendcorr, 3), '| pvalue:', round(kendp, 2))\n",
        "scatterplot(n, x_arr, y_arr, 'Subsoil carbon %', 'Subsoil carbon vs Ag', dataset_path + \"sb_car.jpg\")\n"
      ],
      "execution_count": 9,
      "outputs": [
        {
          "output_type": "stream",
          "name": "stdout",
          "text": [
            "As_ug_cat rows with null values:  0\n",
            "Fluvisol rows with null values:  0\n",
            "Sb_Clay rows with null values:  0\n",
            "Sb_Car rows with null values:  0\n",
            "Slope rows with null values:  0\n",
            "Groundwater level water rows with null values:  0\n",
            "India geology rows with null values:  0\n",
            "Distance from river rows with null values:  0\n",
            "n: 11498 | points: 46 | Kendall rank correlation : 0.318 | pvalue: 0.0\n"
          ]
        },
        {
          "output_type": "display_data",
          "data": {
            "image/png": "[encoded data removed]",
            "text/plain": [
              "<Figure size 432x288 with 1 Axes>"
            ]
          },
          "metadata": {
            "needs_background": "light"
          }
        },
        {
          "output_type": "stream",
          "name": "stdout",
          "text": [
            "Unique classes: [0 1]\n",
            "n: 11498 | points: 46 | Kendall rank correlation : -0.522 | pvalue: 0.0\n"
          ]
        },
        {
          "output_type": "display_data",
          "data": {
            "image/png": "[encoded data removed]",
            "text/plain": [
              "<Figure size 432x288 with 1 Axes>"
            ]
          },
          "metadata": {
            "needs_background": "light"
          }
        },
        {
          "output_type": "stream",
          "name": "stdout",
          "text": [
            "n: 11498 | points: 46 | Kendall rank correlation : -0.517 | pvalue: 0.0\n"
          ]
        },
        {
          "output_type": "display_data",
          "data": {
            "image/png": "[encoded data removed]",
            "text/plain": [
              "<Figure size 432x288 with 1 Axes>"
            ]
          },
          "metadata": {
            "needs_background": "light"
          }
        },
        {
          "output_type": "stream",
          "name": "stdout",
          "text": [
            "n: 11498 | points: 46 | Kendall rank correlation : -0.579 | pvalue: 0.0\n"
          ]
        },
        {
          "output_type": "display_data",
          "data": {
            "image/png": "[encoded data removed]",
            "text/plain": [
              "<Figure size 432x288 with 1 Axes>"
            ]
          },
          "metadata": {
            "needs_background": "light"
          }
        },
        {
          "output_type": "stream",
          "name": "stdout",
          "text": [
            "n: 11498 | points: 46 | Kendall rank correlation : -0.357 | pvalue: 0.0\n"
          ]
        },
        {
          "output_type": "display_data",
          "data": {
            "image/png": "[encoded data removed]",
            "text/plain": [
              "<Figure size 432x288 with 1 Axes>"
            ]
          },
          "metadata": {
            "needs_background": "light"
          }
        },
        {
          "output_type": "display_data",
          "data": {
            "text/plain": [
              "<Figure size 432x288 with 0 Axes>"
            ]
          },
          "metadata": {}
        }
      ]
    },
    {
      "cell_type": "markdown",
      "metadata": {
        "id": "I9N8qfJc5YJa"
      },
      "source": [
        "**Split into training and test datasets**"
      ]
    },
    {
      "cell_type": "code",
      "metadata": {
        "colab": {
          "base_uri": "https://localhost:8080/"
        },
        "id": "aec8SP775dCT",
        "outputId": "72fee59e-c74c-4c7b-d87e-81cd172924f3"
      },
      "source": [
        "# Storing the column names \n",
        "columns_list = list(as_df_copy3.columns)\n",
        "print('List of columns:', columns_list)\n",
        "\n",
        "features=list(['Fluvisols', 'Sb_Clay', 'Sb_Car', 'Slope', 'Average', 'india_geol', 'buffer_rv'])\n",
        "print('Features: ', features)\n",
        "\n",
        "# Storing the output values in y\n",
        "y = as_df_copy3['As_ug_cat'].values\n",
        "#print(y)\n",
        "\n",
        "# Storing the values from input features\n",
        "x = as_df_copy3[features].values\n",
        "#print(x)\n",
        "\n",
        "# Splitting the data into train and test\n",
        "x_train, x_test, y_train, y_test = train_test_split(x, y, test_size=0.3, random_state=100)"
      ],
      "execution_count": 12,
      "outputs": [
        {
          "output_type": "stream",
          "name": "stdout",
          "text": [
            "List of columns: ['As_ug', 'Slope', 'Fluvisols', 'Tp_Clay', 'Sb_Clay', 'Sb_Slt', 'Tp_pH', 'Sb_pH', 'Tp_car', 'Sb_Car', 'Tp_sand', 'Sb_sand', 'ETP', 'Elevation', 'mos_lulc_1', 'buffer_rv', 'river_lgp', 'Grav_', 'twi', 'mosaic_srt', 'india_geol', 'MONSOON', 'POMRB', 'POMKH', 'PREMON', 'Average', 'As_ug_cat']\n",
            "Features:  ['Fluvisols', 'Sb_Clay', 'Sb_Car', 'Slope', 'Average', 'india_geol', 'buffer_rv']\n"
          ]
        }
      ]
    },
    {
      "cell_type": "markdown",
      "metadata": {
        "id": "pwhX5NzZoV7e"
      },
      "source": [
        "**Build a GradientBoostingClassifier**\n",
        "\n",
        "References:\n",
        "\n",
        "1. https://machinelearningmastery.com/gradient-boosting-machine-ensemble-in-python/\n",
        "2. https://www.analyticsvidhya.com/blog/2018/06/comprehensive-guide-for-ensemble-models/\n",
        "3. https://cran.r-project.org/web/packages/gbm/gbm.pdf\n",
        "4. https://www.analyticsvidhya.com/blog/2020/06/auc-roc-curve-machine-learning/\n",
        "5. https://www.analyticsvidhya.com/blog/2021/06/classification-problem-relation-between-sensitivity-specificity-and-accuracy/\n"
      ]
    },
    {
      "cell_type": "code",
      "metadata": {
        "id": "01dHcbHpoU3t",
        "colab": {
          "base_uri": "https://localhost:8080/"
        },
        "outputId": "0fe9bad8-4a57-4aed-ceba-0ff3e1fd900f"
      },
      "source": [
        "# =============================================================================\n",
        "# GradientBoostingClassifier\n",
        "# =============================================================================\n",
        "\n",
        "#check the version of sklearn\n",
        "print(sklearn.__version__)\n",
        "\n",
        "# define the model\n",
        "# parameters n_estimators, max_depth, learning_rate, max_features, \n",
        "GB_classifier = GradientBoostingClassifier(n_estimators=20820)\n",
        "\n",
        "print('y_train shape:', y_train.shape)\n",
        "print('x_train shape:', x_train.shape)\n",
        "\n",
        "# Fitting the values for X and Y\n",
        "GB_classifier.fit(x_train, y_train)\n",
        "\n",
        "# Predicting the test values with model\n",
        "y_predicted = GB_classifier.predict(x_test)\n",
        "print('Classes predicted: ', np.unique(y_predicted))\n",
        "print('Total predictions: ', len(y_predicted))\n",
        "print('Actual count of As=0 [0,2]: ', np.count_nonzero(y_test == 0), '| As=1 [1,2]: ', np.count_nonzero(y_test == 1))\n",
        "print('Predicted count of As=0 [2,0]: ', np.count_nonzero(y_predicted == 0), '| As=0 [2,1]: ', np.count_nonzero(y_predicted == 1))\n",
        "\n",
        "# Confusion matrix\n",
        "# Ci,j is equal to the number of observations known to be in group  and predicted to be in group j.\n",
        "###############################################\n",
        "#               Pred+(0)     Pred-(1)\n",
        "# Actual+(0)    TN           FP       TActual+(0)\n",
        "# Actual-(1)    FN*          TP       TActual-(1)\n",
        "#               TPred+       TPred-\n",
        "#\n",
        "# FN = falsely predicted negative\n",
        "# FP = falsely predicted positive\n",
        "# 0 is negative, 1 is positive\n",
        "###############################################\n",
        "\n",
        "# TP = confusion[1,1] # true positive \n",
        "# TN = confusion[0,0] # true negatives\n",
        "# FP = confusion[0,1] # false positives\n",
        "# FN = confusion[1,0] # false negatives\n",
        "\n",
        "cm = metrics.confusion_matrix(y_test, y_predicted)\n",
        "print(cm)\n",
        "\n",
        "# Calculating the accuracy\n",
        "acc_score = metrics.accuracy_score(y_test, y_predicted)\n",
        "print(\"Accuracy: \", round(acc_score, 3))\n",
        "print(\"Precision: \", round(metrics.precision_score(y_test, y_predicted), 3))\n",
        "print(\"Sensitivity or recall using function:\", round(metrics.recall_score(y_test, y_predicted), 3))\n",
        "\n",
        "# sensitivity = TP/(TP + FN)\n",
        "sensitivity = cm[1,1]/(cm[1,1]+cm[1,0])\n",
        "print('Sensitivity or recall using confusion matrix: ', round(sensitivity, 3))\n",
        "\n",
        "# specificity = TN/(TN + FP)\n",
        "specificity = cm[0,0]/(cm[0,0]+cm[0,1])\n",
        "print('Specificity using confusion matrix: ', round(specificity, 3))\n",
        "\n",
        "# Printing the misclassified values from prediction\n",
        "print('Misclassified samples: %d' % (y_test != y_predicted).sum())"
      ],
      "execution_count": 13,
      "outputs": [
        {
          "output_type": "stream",
          "name": "stdout",
          "text": [
            "0.22.2.post1\n",
            "y_train shape: (8048,)\n",
            "x_train shape: (8048, 7)\n",
            "Classes predicted:  [0 1]\n",
            "Total predictions:  3450\n",
            "Actual count of As=0 [0,2]:  2326 | As=1 [1,2]:  1124\n",
            "Predicted count of As=0 [2,0]:  2412 | As=0 [2,1]:  1038\n",
            "[[1997  329]\n",
            " [ 415  709]]\n",
            "Accuracy:  0.784\n",
            "Precision:  0.683\n",
            "Sensitivity or recall using function: 0.631\n",
            "Sensitivity or recall using confusion matrix:  0.631\n",
            "Specificity using confusion matrix:  0.859\n",
            "Misclassified samples: 744\n"
          ]
        }
      ]
    },
    {
      "cell_type": "code",
      "metadata": {
        "colab": {
          "base_uri": "https://localhost:8080/",
          "height": 427
        },
        "id": "ZOizYVHUI2FT",
        "outputId": "f82d043f-3ec5-4702-8a7a-c40cf4f1fbc6"
      },
      "source": [
        "# =============================================================================\n",
        "# ROC curve\n",
        "# =============================================================================\n",
        "\n",
        "# predict probabilities of each X_test\n",
        "y_pred_prob = GB_classifier.predict_proba(x_test)\n",
        "\n",
        "fpr1, tpr1, thresh1 = roc_curve(y_test, y_pred_prob[:,1], pos_label=1)\n",
        "\n",
        "# roc curve for tpr = fpr \n",
        "random_probs = [0 for i in range(len(y_test))]\n",
        "p_fpr, p_tpr, _ = roc_curve(y_test, random_probs, pos_label=1)\n",
        "\n",
        "# auc scores\n",
        "auc_score = roc_auc_score(y_test, y_pred_prob[:,1])\n",
        "print('AUC score for GB classifier: ', round(auc_score, 3))\n",
        "\n",
        "plt.style.use('seaborn')\n",
        "\n",
        "# plot roc curves\n",
        "plt.plot(fpr1, tpr1, linestyle='--',color='orange', label='GB classifier')\n",
        "plt.plot(p_fpr, p_tpr, linestyle='--', color='blue')\n",
        "# title\n",
        "plt.title('ROC curve for GB classifier')\n",
        "# x label\n",
        "plt.xlabel('False Positive Rate')\n",
        "# y label\n",
        "plt.ylabel('True Positive rate')\n",
        "\n",
        "plt.legend(loc='best')\n",
        "plt.savefig(dataset_path + 'ROC_GB_classifier', dpi=300)\n",
        "plt.show();\n",
        "\n",
        "# =============================================================================\n",
        "# Specificity, sensitivity, and accuracy curve\n",
        "# =============================================================================\n",
        "\n",
        "numbers = [float(x)/100 for x in range(100)]\n",
        "#print(numbers)\n",
        "y_predicted_at_cutoffs = []\n",
        "\n",
        "#x = np.array(y_pred_prob)\n",
        "#print('Unique probabilities:', np.unique(x))\n",
        "\n",
        "for irow in range(len(y_pred_prob)):\n",
        "  v = [y_test[irow], y_pred_prob[irow,0], y_predicted[irow]]\n",
        "  for cutof_prob in numbers:\n",
        "    if (y_pred_prob[irow, 0] > cutof_prob): # non-arsenic\n",
        "      v.append(0)\n",
        "    else:\n",
        "      v.append(1)\n",
        "  y_predicted_at_cutoffs.append(v)\n",
        "\n",
        "#print(\"y_predicted_at_cutoffs:\", y_predicted_at_cutoffs)\n",
        "\n",
        "# How many 0 and 1 using cuttof of 0.5?\n",
        "class0, class1 = 0, 0\n",
        "for irow in range(len(y_pred_prob)):\n",
        "  if (y_pred_prob[irow,0] > 0.5):\n",
        "    class0 += 1\n",
        "  else:\n",
        "    class1 += 1\n",
        "print(\"Verification check: At 0.5 cutoff, predicted Class0 (No Arsenic): \" + str(class0) + \" Class1 (Arsenic):\" + str(class1))\n",
        "\n",
        "#print(pred_prob_y)\n",
        "print(y_predicted)\n"
      ],
      "execution_count": 20,
      "outputs": [
        {
          "output_type": "stream",
          "name": "stdout",
          "text": [
            "AUC score for GB classifier:  0.831\n"
          ]
        },
        {
          "output_type": "display_data",
          "data": {
            "image/png": "[encoded data removed]",
            "text/plain": [
              "<Figure size 576x396 with 1 Axes>"
            ]
          },
          "metadata": {}
        },
        {
          "output_type": "stream",
          "name": "stdout",
          "text": [
            "Verification check: At 0.5 cutoff, predicted Class0 (No Arsenic): 2412 Class1 (Arsenic):1038\n",
            "[0 0 0 ... 0 1 1]\n"
          ]
        }
      ]
    },
    {
      "cell_type": "code",
      "metadata": {
        "colab": {
          "base_uri": "https://localhost:8080/",
          "height": 1000
        },
        "id": "92K1gNsFKIQZ",
        "outputId": "d062b512-5da6-42fe-d169-20f53d9449e6"
      },
      "source": [
        "y_predicted_at_cutoffs_df = pd.DataFrame(y_predicted_at_cutoffs, columns = ['y_test','y_pred_prob','y_predicted'] + numbers)\n",
        "print(y_predicted_at_cutoffs_df.head(150))\n",
        "\n",
        "cutoff_df = pd.DataFrame( columns = ['Probability','Accuracy','Sensitivity','Specificity'])\n",
        "\n",
        "for icols in numbers:\n",
        "    cm1 = metrics.confusion_matrix(y_predicted_at_cutoffs_df['y_test'], y_predicted_at_cutoffs_df[icols])\n",
        "    total1 = sum(sum(cm1))\n",
        "    accuracy = (cm1[0,0]+cm1[1,1])/total1\n",
        "    specificity = cm1[0,0]/(cm1[0,0]+cm1[0,1])\n",
        "    sensitivity = cm1[1,1]/(cm1[1,0]+cm1[1,1])\n",
        "    cutoff_df.loc[icols] =[icols, accuracy, sensitivity, specificity]\n",
        "    \n",
        "    # calculate the cutoff, and the accuracy, senstivity,and specificity at the cutoff.    \n",
        "    if (icols == 0.76):\n",
        "      print('Intersection point: i, Specificity/Senstivity/Accuracy:', icols, round(specificity, 3), round(sensitivity, 3), round(accuracy, 3))\n",
        "    if (icols == 0.5):\n",
        "      print('Verification step: i, Specificity/Senstivity/Accuracy:', icols, round(specificity, 3), round(sensitivity, 3), round(accuracy, 3))\n",
        "\n",
        "# gca stands for 'get current axis'\n",
        "plt.title('Specificity, sensitivity, and specificity curve for GB classifier')\n",
        "\n",
        "ax = plt.gca()\n",
        "\n",
        "cutoff_df.plot(kind='line',x='Probability',y='Accuracy', color='blue', ax=ax)\n",
        "cutoff_df.plot(kind='line',x='Probability',y='Sensitivity', color='red', ax=ax)\n",
        "cutoff_df.plot(kind='line',x='Probability',y='Specificity', color='green', ax=ax)\n",
        "\n",
        "plt.savefig(dataset_path + 'SAS_GB_classifier', dpi=300)\n",
        "plt.show()\n",
        "\n",
        "print(cutoff_df.iloc[50:80,:])\n",
        "\n",
        "\n"
      ],
      "execution_count": 19,
      "outputs": [
        {
          "output_type": "stream",
          "name": "stdout",
          "text": [
            "     y_test  y_pred_prob  y_predicted  0.0  0.01  ...  0.95  0.96  0.97  0.98  0.99\n",
            "0         1     0.803008            0    0     0  ...     1     1     1     1     1\n",
            "1         0     0.869672            0    0     0  ...     1     1     1     1     1\n",
            "2         0     0.999978            0    0     0  ...     0     0     0     0     0\n",
            "3         0     0.998952            0    0     0  ...     0     0     0     0     0\n",
            "4         0     0.991306            0    0     0  ...     0     0     0     0     0\n",
            "..      ...          ...          ...  ...   ...  ...   ...   ...   ...   ...   ...\n",
            "145       0     0.999991            0    0     0  ...     0     0     0     0     0\n",
            "146       0     0.983891            0    0     0  ...     0     0     0     0     1\n",
            "147       0     0.952252            0    0     0  ...     0     1     1     1     1\n",
            "148       0     0.959110            0    0     0  ...     0     1     1     1     1\n",
            "149       0     0.999283            0    0     0  ...     0     0     0     0     0\n",
            "\n",
            "[150 rows x 103 columns]\n",
            "Verification step: i, Specificity/Senstivity/Accuracy: 0.5 0.859 0.631 0.784\n",
            "Intersection point: i, Specificity/Senstivity/Accuracy: 0.76 0.761 0.765 0.762\n"
          ]
        },
        {
          "output_type": "display_data",
          "data": {
            "image/png": "[encoded data removed]",
            "text/plain": [
              "<Figure size 576x396 with 1 Axes>"
            ]
          },
          "metadata": {}
        },
        {
          "output_type": "stream",
          "name": "stdout",
          "text": [
            "      Probability  Accuracy  Sensitivity  Specificity\n",
            "0.50         0.50  0.784348     0.630783     0.858555\n",
            "0.51         0.51  0.785507     0.637900     0.856836\n",
            "0.52         0.52  0.786667     0.645907     0.854686\n",
            "0.53         0.53  0.786957     0.650356     0.852966\n",
            "0.54         0.54  0.786957     0.654804     0.850817\n",
            "0.55         0.55  0.786957     0.657473     0.849527\n",
            "0.56         0.56  0.786957     0.661032     0.847807\n",
            "0.57         0.57  0.786957     0.670819     0.843078\n",
            "0.58         0.58  0.786667     0.672598     0.841788\n",
            "0.59         0.59  0.786957     0.676157     0.840499\n",
            "0.60         0.60  0.786087     0.678826     0.837919\n",
            "0.61         0.61  0.784928     0.684164     0.833620\n",
            "0.62         0.62  0.785217     0.692171     0.830181\n",
            "0.63         0.63  0.782319     0.693950     0.825021\n",
            "0.64         0.64  0.780580     0.696619     0.821152\n",
            "0.65         0.65  0.782029     0.709964     0.816853\n",
            "0.66         0.66  0.780870     0.716192     0.812124\n",
            "0.67         0.67  0.780580     0.726868     0.806535\n",
            "0.68         0.68  0.777971     0.728648     0.801806\n",
            "0.69         0.69  0.775362     0.736655     0.794067\n",
            "0.70         0.70  0.769565     0.743772     0.782029\n",
            "0.71         0.71  0.766667     0.745552     0.776870\n",
            "0.72         0.72  0.765217     0.748221     0.773431\n",
            "0.73         0.73  0.766087     0.754448     0.771711\n",
            "0.74         0.74  0.764638     0.757117     0.768272\n",
            "0.75         0.75  0.764348     0.757117     0.767842\n",
            "0.76         0.76  0.762319     0.765125     0.760963\n",
            "0.77         0.77  0.761739     0.775801     0.754944\n",
            "0.78         0.78  0.755942     0.779359     0.744626\n",
            "0.79         0.79  0.749275     0.788256     0.730439\n"
          ]
        }
      ]
    }
  ]
}