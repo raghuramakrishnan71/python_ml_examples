{
  "nbformat": 4,
  "nbformat_minor": 0,
  "metadata": {
    "colab": {
      "name": "arsenic_data_modeling_svm.ipynb",
      "provenance": [],
      "collapsed_sections": []
    },
    "kernelspec": {
      "display_name": "Python 3",
      "name": "python3"
    },
    "language_info": {
      "name": "python"
    }
  },
  "cells": [
    {
      "cell_type": "code",
      "metadata": {
        "colab": {
          "base_uri": "https://localhost:8080/"
        },
        "id": "6NReQVJGmgvR",
        "outputId": "607d704a-b54c-4ad1-f638-a2bf2b5af4d8"
      },
      "source": [
        "from google.colab import drive\n",
        "drive.mount('/content/drive')"
      ],
      "execution_count": 1,
      "outputs": [
        {
          "output_type": "stream",
          "name": "stdout",
          "text": [
            "Mounted at /content/drive\n"
          ]
        }
      ]
    },
    {
      "cell_type": "code",
      "metadata": {
        "colab": {
          "base_uri": "https://localhost:8080/"
        },
        "id": "h7PgTb7DmmDf",
        "outputId": "d826282f-6115-4fd5-fbef-258a251fd7da"
      },
      "source": [
        "################################# Required packages ############################\n",
        "# To work with dataframes\n",
        "import pandas as pd \n",
        "\n",
        "# To perform numerical operations\n",
        "import numpy as np\n",
        "\n",
        "# To draw graphs\n",
        "import matplotlib.pyplot as plt\n",
        "\n",
        "# To visualize data\n",
        "import seaborn as sns\n",
        "\n",
        "# importing the library of KNN\n",
        "from sklearn.neighbors import KNeighborsClassifier  \n",
        "\n",
        "# To partition the data\n",
        "from sklearn.model_selection import train_test_split\n",
        "\n",
        "# Importing performance metrics - accuracy score & confusion matrix\n",
        "from sklearn import metrics\n",
        "\n",
        "# To generate ROC curve\n",
        "from sklearn.metrics import roc_curve\n",
        "\n",
        "# To calculate AUC score\n",
        "from sklearn.metrics import roc_auc_score\n",
        "\n",
        "# importing library of binary classifier\n",
        "import statsmodels.api as sm\n",
        "\n",
        "# To calculate confusion matrix\n",
        "from sklearn.metrics import confusion_matrix\n",
        "\n",
        "# Complete sklearn\n",
        "import sklearn\n",
        "\n",
        "# Gradient boosting classifier\n",
        "from sklearn.ensemble import GradientBoostingClassifier\n",
        "\n",
        "# LinearDiscriminant analysis classifier\n",
        "from sklearn.discriminant_analysis import LinearDiscriminantAnalysis\n",
        "\n",
        "# Support vector machine classifier\n",
        "from sklearn import svm\n",
        "\n",
        "# To perform mathematical operations\n",
        "import math\n",
        "\n",
        "# To findout correlation\n",
        "from scipy.stats import kendalltau\n",
        "\n",
        "# binary classifier\n",
        "import statsmodels.api as sm\n",
        "\n",
        "# Support vector machine classifier\n",
        "from sklearn import svm"
      ],
      "execution_count": 2,
      "outputs": [
        {
          "output_type": "stream",
          "name": "stderr",
          "text": [
            "/usr/local/lib/python3.7/dist-packages/statsmodels/tools/_testing.py:19: FutureWarning: pandas.util.testing is deprecated. Use the functions in the public API at pandas.testing instead.\n",
            "  import pandas.util.testing as tm\n"
          ]
        }
      ]
    },
    {
      "cell_type": "code",
      "metadata": {
        "id": "-AkBwHi6q7BV"
      },
      "source": [
        "# modified equal bin width creation\n",
        "def makeequiwidthbins(x_arr, y_arr, threshold, no_of_bins):\n",
        "    #print('No of bins:', no_of_bins)\n",
        "\n",
        "    if (no_of_bins == 0):\n",
        "      return [x_arr, y_arr]\n",
        "\n",
        "    width = round((max(x_arr) - min(x_arr)) / no_of_bins)\n",
        "    #print('Width:', width)\n",
        "    min1 = min(x_arr)\n",
        "    bin_arr = []\n",
        "    for i in range(0, no_of_bins+2): #to include the max(x_arr) value\n",
        "        bin_arr = bin_arr + [min1 + width * i]\n",
        "    #print('Bin limits array', bin_arr)\n",
        "\n",
        "    arri = []\n",
        "    y_proportion = []\n",
        "    \n",
        "    for i in range(0, no_of_bins+1):\n",
        "        temp1 = []\n",
        "        total_val_in_bin = 0\n",
        "        total_val_gt_threshold = 0\n",
        "        index = 0\n",
        "        for x_val in x_arr:\n",
        "            if x_val >= bin_arr[i] and x_val < bin_arr[i+1]:\n",
        "              total_val_in_bin += 1\n",
        "              if y_arr[index] > threshold:\n",
        "                #print(index, x_val, y_arr[index], y_arr[index] > threshold)\n",
        "                temp1 += [y_arr[index]]\n",
        "                total_val_gt_threshold += 1    \n",
        "            index += 1\n",
        "\n",
        "        arri += [temp1]\n",
        "        #print('No of observations in the bin greater than threshold: ', i, bin_arr[i], bin_arr[i+1], total_val_gt_threshold)\n",
        "        #print('No of observations in the bin: ', i, total_val_in_bin)\n",
        "        if (total_val_in_bin != 0): # to avoid 0/0 error\n",
        "          y_proportion += [round(total_val_gt_threshold/total_val_in_bin, 2)]\n",
        "        else:\n",
        "          y_proportion += [0]\n",
        "\n",
        "    #print('Proportion array:', y_proportion)\n",
        "    #print('Elements in each bin\\n', arri)\n",
        "    return [np.delete(bin_arr, no_of_bins+1), y_proportion]\n",
        "    \n"
      ],
      "execution_count": 3,
      "outputs": []
    },
    {
      "cell_type": "code",
      "metadata": {
        "id": "uwMxjHSGCOSF"
      },
      "source": [
        "def scatterplot(n, x_arr, y_arr, x_label, title_label, save_file):\n",
        "  # plotting the points\n",
        "  plt.scatter(x_arr, y_arr, color='b')\n",
        "  \n",
        "  maxx = max(x_arr)\n",
        "  maxy = max(y_arr)\n",
        "\n",
        "  # setting y axis range\n",
        "  plt.ylim(0, maxy)\n",
        "\n",
        "  # resetting y axis range\n",
        "  plt.ylim(0, maxy)\n",
        "  \n",
        "  # naming the x axis\n",
        "  plt.xlabel(x_label)\n",
        "\n",
        "  # naming the y axis\n",
        "  plt.ylabel('Proportion As > 10μg/L')\n",
        "  \n",
        "  # giving a title to my graph\n",
        "  plt.title(title_label)\n",
        "  \n",
        "  #plt.text(info_pos[0][0], info_pos[0][1], info_label[0], ha='right', va='top',\n",
        "  \n",
        "  # function to show the plot\n",
        "  plt.show()\n",
        "\n",
        "  # Saving the figure.\n",
        "  plt.savefig(save_file)"
      ],
      "execution_count": 4,
      "outputs": []
    },
    {
      "cell_type": "code",
      "metadata": {
        "colab": {
          "base_uri": "https://localhost:8080/"
        },
        "id": "-POOTM3UmpyG",
        "outputId": "fa5669ac-0bc8-407b-d19e-278b02442926"
      },
      "source": [
        "# path\n",
        "dataset_path = \"/content/drive/MyDrive/arsenic_analysis/\"\n",
        "\n",
        "# Reading data\n",
        "as_df = pd.read_csv(dataset_path + \"arsenic_data_gd.csv\")\n",
        "\n",
        "#**** To check variables' data type\n",
        "#print(df.info())\n",
        "\n",
        "#**** Check for missing values.            \n",
        "as_df.isnull()          \n",
        "\n",
        "#**** How many rows contain missing values? \n",
        "#print('Data columns with null values:\\n', df.isnull().sum())\n",
        "\n",
        "as_df_copy1 = as_df.copy()\n",
        "\n",
        "# Storing the column names \n",
        "columns_list=list(as_df_copy1.columns)\n",
        "print(columns_list)\n",
        "\n",
        "#drop unwanted columns\n",
        "as_df_copy2 = as_df_copy1.drop(columns =['S__No_n', 'State', 'District', 'location', 'Lat', 'log', 'Tp_Slt', 'Source'], axis = 1)\n",
        "\n",
        "#create a categorical variable for Arsenic. If As < 10, then 1 else 0\n",
        "as_df_copy2['As_ug_cat'] = np.where(as_df_copy2['As_ug'] > 10, 1, 0)\n",
        "\n",
        "print(as_df_copy2.head(15))\n",
        "print('Shape of new dataframe (as_df_copy2): ', as_df_copy2.shape, type(as_df_copy2))\n"
      ],
      "execution_count": 5,
      "outputs": [
        {
          "output_type": "stream",
          "name": "stdout",
          "text": [
            "['S__No_n', 'State', 'District', 'location', 'Lat', 'log', 'As_ug', 'Source', 'Slope', 'Fluvisols', 'Tp_Clay', 'Sb_Clay', 'Tp_Slt', 'Sb_Slt', 'Tp_pH', 'Sb_pH', 'Tp_car', 'Sb_Car', 'Tp_sand', 'Sb_sand', 'ETP', 'Elevation', 'mos_lulc_1', 'buffer_rv', 'river_lgp', 'Grav_', 'twi', 'mosaic_srt', 'india_geol', 'MONSOON', 'POMRB', 'POMKH', 'PREMON', 'Average']\n",
            "    As_ug     Slope  Fluvisols  Tp_Clay  ...  POMKH  PREMON  Average  As_ug_cat\n",
            "0     500  1.277690          4        0  ...   5.00   -1.00     2.00          1\n",
            "1     350  1.050310          4        0  ...   0.04    0.01     0.47          1\n",
            "2     325  0.638925          5        0  ...   0.04    0.01     0.47          1\n",
            "3     425  1.197500          4        0  ...   0.04    0.01     0.49          1\n",
            "4     300  0.704614          3        0  ...   0.04    0.01     0.47          1\n",
            "5     250  1.514600          5        0  ...   0.04    0.01     0.48          1\n",
            "6     200  0.535600          2        0  ...   0.04    0.01     0.49          1\n",
            "7     200  0.525200          2        0  ...   0.04    0.01     0.48          1\n",
            "8     200  0.630232          3        0  ...   0.04    0.01     0.51          1\n",
            "9     200  0.378732          3        0  ...   0.04    0.01     0.49          1\n",
            "10    150  1.575250          4        0  ...   0.04    0.01     0.48          1\n",
            "11    150  1.458990          4        0  ...   0.04    0.01     0.51          1\n",
            "12    120  0.234882          3        0  ...   0.04    0.01     0.48          1\n",
            "13    140  0.315126          2        0  ...   0.04    0.01     0.48          1\n",
            "14     88  0.897414          3        0  ...   0.04    0.01     0.50          1\n",
            "\n",
            "[15 rows x 27 columns]\n",
            "Shape of new dataframe (as_df_copy2):  (11498, 27) <class 'pandas.core.frame.DataFrame'>\n"
          ]
        }
      ]
    },
    {
      "cell_type": "code",
      "metadata": {
        "colab": {
          "base_uri": "https://localhost:8080/"
        },
        "id": "NOjAphvrrXiM",
        "outputId": "9d48a7af-da36-4c9e-f46b-599809dfee90"
      },
      "source": [
        "n = len(as_df_copy2)\n",
        "print('Dataset size: ', n)\n",
        "\n",
        "sturges_m = 1 + 3.322 * math.log(n)\n",
        "rice_m = (n ** (1. / 3)) * 2\n",
        "\n",
        "print('Sturges bin size: ', math.floor(sturges_m))\n",
        "print('Rice bin size: ', rice_m)\n",
        "\n",
        "no_of_bins = math.floor(rice_m)\n",
        "print('No of bins: ', no_of_bins)"
      ],
      "execution_count": 6,
      "outputs": [
        {
          "output_type": "stream",
          "name": "stdout",
          "text": [
            "Dataset size:  11498\n",
            "Sturges bin size:  32\n",
            "Rice bin size:  45.14095718421094\n",
            "No of bins:  45\n"
          ]
        }
      ]
    },
    {
      "cell_type": "code",
      "metadata": {
        "colab": {
          "base_uri": "https://localhost:8080/"
        },
        "id": "9Ehl584wrcqY",
        "outputId": "b2715108-d53b-4cba-bc95-44db6ad093c3"
      },
      "source": [
        "threshold = 10\n",
        "\n",
        "as_df_copy3 = as_df_copy2.copy()\n",
        "#df_copy3['india_geol'] = df_copy3['india_geol'].astype('category',copy=False)\n",
        "\n",
        "# Perform dummy encoding on the categorical columns of data\n",
        "#df_copy4 = pd.get_dummies(df_copy3)\n",
        "as_df_copy4 = as_df_copy3.copy()\n",
        "\n",
        "#**** To recheck variables' data type\n",
        "print(as_df_copy4.info())\n",
        "\n",
        "print('Columns: ', as_df_copy4.columns)"
      ],
      "execution_count": 7,
      "outputs": [
        {
          "output_type": "stream",
          "name": "stdout",
          "text": [
            "<class 'pandas.core.frame.DataFrame'>\n",
            "RangeIndex: 11498 entries, 0 to 11497\n",
            "Data columns (total 27 columns):\n",
            " #   Column      Non-Null Count  Dtype  \n",
            "---  ------      --------------  -----  \n",
            " 0   As_ug       11498 non-null  int64  \n",
            " 1   Slope       11498 non-null  float64\n",
            " 2   Fluvisols   11498 non-null  int64  \n",
            " 3   Tp_Clay     11498 non-null  int64  \n",
            " 4   Sb_Clay     11498 non-null  int64  \n",
            " 5   Sb_Slt      11498 non-null  int64  \n",
            " 6   Tp_pH       11498 non-null  float64\n",
            " 7   Sb_pH       11498 non-null  int64  \n",
            " 8   Tp_car      11498 non-null  int64  \n",
            " 9   Sb_Car      11498 non-null  int64  \n",
            " 10  Tp_sand     11498 non-null  int64  \n",
            " 11  Sb_sand     11498 non-null  int64  \n",
            " 12  ETP         11498 non-null  int64  \n",
            " 13  Elevation   11498 non-null  int64  \n",
            " 14  mos_lulc_1  11498 non-null  int64  \n",
            " 15  buffer_rv   11498 non-null  int64  \n",
            " 16  river_lgp   11498 non-null  int64  \n",
            " 17  Grav_       11498 non-null  float64\n",
            " 18  twi         11498 non-null  float64\n",
            " 19  mosaic_srt  11498 non-null  int64  \n",
            " 20  india_geol  11498 non-null  int64  \n",
            " 21  MONSOON     11498 non-null  float64\n",
            " 22  POMRB       11498 non-null  float64\n",
            " 23  POMKH       11498 non-null  float64\n",
            " 24  PREMON      11498 non-null  float64\n",
            " 25  Average     11498 non-null  float64\n",
            " 26  As_ug_cat   11498 non-null  int64  \n",
            "dtypes: float64(9), int64(18)\n",
            "memory usage: 2.4 MB\n",
            "None\n",
            "Columns:  Index(['As_ug', 'Slope', 'Fluvisols', 'Tp_Clay', 'Sb_Clay', 'Sb_Slt', 'Tp_pH',\n",
            "       'Sb_pH', 'Tp_car', 'Sb_Car', 'Tp_sand', 'Sb_sand', 'ETP', 'Elevation',\n",
            "       'mos_lulc_1', 'buffer_rv', 'river_lgp', 'Grav_', 'twi', 'mosaic_srt',\n",
            "       'india_geol', 'MONSOON', 'POMRB', 'POMKH', 'PREMON', 'Average',\n",
            "       'As_ug_cat'],\n",
            "      dtype='object')\n"
          ]
        }
      ]
    },
    {
      "cell_type": "markdown",
      "metadata": {
        "id": "-r2atOGJpaue"
      },
      "source": [
        "**Graphs**"
      ]
    },
    {
      "cell_type": "code",
      "metadata": {
        "colab": {
          "base_uri": "https://localhost:8080/",
          "height": 1000
        },
        "id": "UY4BHb1spaM7",
        "outputId": "6e726958-fe5b-4742-f169-fa92130ab2ce"
      },
      "source": [
        "# Storing the output values in y\n",
        "\n",
        "#arsenic\n",
        "arsenic = as_df_copy3['As_ug_cat'].values\n",
        "print('As_ug_cat rows with null values: ', as_df_copy3['As_ug'].isnull().sum())\n",
        "\n",
        "#fluvisols\n",
        "fluvisols = as_df_copy3['Fluvisols'].values\n",
        "print('Fluvisol rows with null values: ', as_df_copy3['Fluvisols'].isnull().sum())\n",
        "\n",
        "#sb_clay\n",
        "sb_clay = as_df_copy3['Sb_Clay'].values\n",
        "print('Sb_Clay rows with null values: ', as_df_copy3['Sb_Clay'].isnull().sum())\n",
        "\n",
        "#sb_car\n",
        "sb_car = as_df_copy3['Sb_Car'].values\n",
        "print('Sb_Car rows with null values: ', as_df_copy3['Sb_Car'].isnull().sum())\n",
        "\n",
        "#slope\n",
        "slope = as_df_copy3['Slope'].values\n",
        "print('Slope rows with null values: ', as_df_copy3['Slope'].isnull().sum())\n",
        "\n",
        "#gw_level\n",
        "gw_level = as_df_copy3['Average'].values\n",
        "print('Groundwater level water rows with null values: ', as_df_copy3['Average'].isnull().sum())\n",
        "\n",
        "#geology\n",
        "geology = as_df_copy3['india_geol'].values\n",
        "print('India geology rows with null values: ', as_df_copy3['india_geol'].isnull().sum())\n",
        "\n",
        "#distance of the river\n",
        "river_dist = as_df_copy3['buffer_rv'].values\n",
        "print('Distance from river rows with null values: ', as_df_copy3['buffer_rv'].isnull().sum())\n",
        "\n",
        "threshold = 0\n",
        "\n",
        "#create bins of equal width\n",
        "x_arr, y_arr = makeequiwidthbins(sb_clay, arsenic, threshold, no_of_bins)\n",
        "kendcorr, kendp = kendalltau(x_arr, y_arr)\n",
        "print('n:', n, '| points:', len(y_arr), '| Kendall rank correlation :', round(kendcorr, 3), '| pvalue:', round(kendp, 2))\n",
        "scatterplot(n, x_arr, y_arr, 'Subsoil clay %', 'Subsoil clay vs Ag', dataset_path + \"sb_clay.jpg\")\n",
        "\n",
        "x = np.array(arsenic)\n",
        "print('Unique classes:', np.unique(x))\n",
        "\n",
        "x_arr, y_arr = makeequiwidthbins(fluvisols, arsenic, threshold, no_of_bins)\n",
        "kendcorr, kendp = kendalltau(x_arr, y_arr)\n",
        "print('n:', n, '| points:', len(y_arr), '| Kendall rank correlation :', round(kendcorr, 3), '| pvalue:', round(kendp, 2))\n",
        "scatterplot(n, x_arr, y_arr, 'Fluvisols %', 'Fluvisols vs Ag', dataset_path + \"fluvisols.jpg\")\n",
        "\n",
        "x_arr, y_arr = makeequiwidthbins(slope, arsenic, threshold, no_of_bins)\n",
        "kendcorr, kendp = kendalltau(x_arr, y_arr)\n",
        "print('n:', n, '| points:', len(y_arr), '| Kendall rank correlation :', round(kendcorr, 3), '| pvalue:', round(kendp, 2))\n",
        "scatterplot(n, x_arr, y_arr, 'Slope (degree)', 'Slope vs Ag', dataset_path + \"slope.jpg\")\n",
        "\n",
        "x_arr, y_arr = makeequiwidthbins(gw_level, arsenic, threshold, no_of_bins)\n",
        "kendcorr, kendp = kendalltau(x_arr, y_arr)\n",
        "print('n:', n, '| points:', len(y_arr), '| Kendall rank correlation :', round(kendcorr, 3), '| pvalue:', round(kendp, 2))\n",
        "scatterplot(n, x_arr, y_arr, 'Groundwater level (m)', 'Groundwater level vs Ag', dataset_path + \"gw_level.jpg\")\n",
        "\n",
        "#x_arr, y_arr = makeequiwidthbins(river_dist, arsenic, threshold, no_of_bins)\n",
        "#kendcorr, kendp = kendalltau(x_arr, y_arr)\n",
        "#print('n:', n, '| points:', len(y_arr), '| Kendall rank correlation :', round(kendcorr, 3), '| pvalue:', round(kendp, 2))\n",
        "#scatterplot(n, x_arr, y_arr, 'Distance from river (km) %', 'Distance from river vs Ag', dataset_path + \"river_dist.jpg\")\n",
        "\n",
        "x_arr, y_arr = makeequiwidthbins(sb_car, arsenic, threshold, no_of_bins)\n",
        "kendcorr, kendp = kendalltau(x_arr, y_arr)\n",
        "print('n:', n, '| points:', len(y_arr), '| Kendall rank correlation :', round(kendcorr, 3), '| pvalue:', round(kendp, 2))\n",
        "scatterplot(n, x_arr, y_arr, 'Subsoil carbon %', 'Subsoil carbon vs Ag', dataset_path + \"sb_car.jpg\")\n"
      ],
      "execution_count": 8,
      "outputs": [
        {
          "output_type": "stream",
          "name": "stdout",
          "text": [
            "As_ug_cat rows with null values:  0\n",
            "Fluvisol rows with null values:  0\n",
            "Sb_Clay rows with null values:  0\n",
            "Sb_Car rows with null values:  0\n",
            "Slope rows with null values:  0\n",
            "Groundwater level water rows with null values:  0\n",
            "India geology rows with null values:  0\n",
            "Distance from river rows with null values:  0\n",
            "n: 11498 | points: 46 | Kendall rank correlation : 0.318 | pvalue: 0.0\n"
          ]
        },
        {
          "output_type": "display_data",
          "data": {
            "image/png": "[encoded data removed]",
            "text/plain": [
              "<Figure size 432x288 with 1 Axes>"
            ]
          },
          "metadata": {
            "needs_background": "light"
          }
        },
        {
          "output_type": "stream",
          "name": "stdout",
          "text": [
            "Unique classes: [0 1]\n",
            "n: 11498 | points: 46 | Kendall rank correlation : -0.522 | pvalue: 0.0\n"
          ]
        },
        {
          "output_type": "display_data",
          "data": {
            "image/png": "[encoded data removed]",
            "text/plain": [
              "<Figure size 432x288 with 1 Axes>"
            ]
          },
          "metadata": {
            "needs_background": "light"
          }
        },
        {
          "output_type": "stream",
          "name": "stdout",
          "text": [
            "n: 11498 | points: 46 | Kendall rank correlation : -0.517 | pvalue: 0.0\n"
          ]
        },
        {
          "output_type": "display_data",
          "data": {
            "image/png": "[encoded data removed]",
            "text/plain": [
              "<Figure size 432x288 with 1 Axes>"
            ]
          },
          "metadata": {
            "needs_background": "light"
          }
        },
        {
          "output_type": "stream",
          "name": "stdout",
          "text": [
            "n: 11498 | points: 46 | Kendall rank correlation : -0.579 | pvalue: 0.0\n"
          ]
        },
        {
          "output_type": "display_data",
          "data": {
            "image/png": "[encoded data removed]",
            "text/plain": [
              "<Figure size 432x288 with 1 Axes>"
            ]
          },
          "metadata": {
            "needs_background": "light"
          }
        },
        {
          "output_type": "stream",
          "name": "stdout",
          "text": [
            "n: 11498 | points: 46 | Kendall rank correlation : -0.357 | pvalue: 0.0\n"
          ]
        },
        {
          "output_type": "display_data",
          "data": {
            "image/png": "[encoded data removed]",
            "text/plain": [
              "<Figure size 432x288 with 1 Axes>"
            ]
          },
          "metadata": {
            "needs_background": "light"
          }
        },
        {
          "output_type": "display_data",
          "data": {
            "text/plain": [
              "<Figure size 432x288 with 0 Axes>"
            ]
          },
          "metadata": {}
        }
      ]
    },
    {
      "cell_type": "markdown",
      "metadata": {
        "id": "I9N8qfJc5YJa"
      },
      "source": [
        "**Split into training and test datasets**"
      ]
    },
    {
      "cell_type": "code",
      "metadata": {
        "colab": {
          "base_uri": "https://localhost:8080/"
        },
        "id": "aec8SP775dCT",
        "outputId": "75555aa3-58da-49f3-e726-8f3d9f770f5b"
      },
      "source": [
        "# Storing the column names \n",
        "columns_list = list(as_df_copy3.columns)\n",
        "print('List of columns:', columns_list)\n",
        "\n",
        "features=list(['Fluvisols', 'Sb_Clay', 'Sb_Car', 'Slope', 'Average', 'india_geol', 'buffer_rv'])\n",
        "print('Features: ', features)\n",
        "\n",
        "# Storing the output values in y\n",
        "y = as_df_copy3['As_ug_cat'].values\n",
        "#print(y)\n",
        "\n",
        "# Storing the values from input features\n",
        "x = as_df_copy3[features].values\n",
        "#print(x)\n",
        "\n",
        "# Splitting the data into train and test\n",
        "x_train, x_test, y_train, y_test = train_test_split(x, y, test_size=0.3, random_state=100)\n",
        "\n",
        "#print(x_test[6,0], x_test[6,1], x_test[6,2], x_test[6,4])"
      ],
      "execution_count": 9,
      "outputs": [
        {
          "output_type": "stream",
          "name": "stdout",
          "text": [
            "List of columns: ['As_ug', 'Slope', 'Fluvisols', 'Tp_Clay', 'Sb_Clay', 'Sb_Slt', 'Tp_pH', 'Sb_pH', 'Tp_car', 'Sb_Car', 'Tp_sand', 'Sb_sand', 'ETP', 'Elevation', 'mos_lulc_1', 'buffer_rv', 'river_lgp', 'Grav_', 'twi', 'mosaic_srt', 'india_geol', 'MONSOON', 'POMRB', 'POMKH', 'PREMON', 'Average', 'As_ug_cat']\n",
            "Features:  ['Fluvisols', 'Sb_Clay', 'Sb_Car', 'Slope', 'Average', 'india_geol', 'buffer_rv']\n"
          ]
        }
      ]
    },
    {
      "cell_type": "markdown",
      "metadata": {
        "id": "pwhX5NzZoV7e"
      },
      "source": [
        "**Build a SupportVectorMachine**\n",
        "\n",
        "References:\n",
        "\n",
        "1. https://www.analyticsvidhya.com/blog/2017/09/understaing-support-vector-machine-example-code/"
      ]
    },
    {
      "cell_type": "code",
      "metadata": {
        "colab": {
          "base_uri": "https://localhost:8080/"
        },
        "id": "01dHcbHpoU3t",
        "outputId": "ba98e202-b001-4201-e811-1cb28cde9c90"
      },
      "source": [
        "# =============================================================================\n",
        "# SupportVectorMachine\n",
        "# =============================================================================\n",
        "\n",
        "#check the version of sklearn\n",
        "print(sklearn.__version__)\n",
        "\n",
        "# define the model\n",
        "SVM_Classifier = svm.SVC(kernel='rbf', C=1.0, gamma='auto', probability=True)\n",
        "\n",
        "print('y_train shape:', y_train.shape)\n",
        "print('x_train shape:', x_train.shape)\n",
        "\n",
        "# Fitting the values for X and Y\n",
        "SVM_Classifier.fit(x_train, y_train)\n",
        "\n",
        "# Predicting the test values with model\n",
        "y_predicted = SVM_Classifier.predict(x_test)\n",
        "print('Classes predicted: ', np.unique(y_predicted))\n",
        "print('Total predictions: ', len(y_predicted))\n",
        "print('Actual count of As=0 [0,2]: ', np.count_nonzero(y_test == 0), '| As=1 [1,2]: ', np.count_nonzero(y_test == 1))\n",
        "print('Predicted count of As=0 [2,0]: ', np.count_nonzero(y_predicted == 0), '| As=0 [2,1]: ', np.count_nonzero(y_predicted == 1))\n",
        "\n",
        "# Confusion matrix\n",
        "# Ci,j is equal to the number of observations known to be in group  and predicted to be in group j.\n",
        "###############################################\n",
        "#               Pred+(0)     Pred-(1)\n",
        "# Actual+(0)    TN           FP       TActual+(0)\n",
        "# Actual-(1)    FN*          TP       TActual-(1)\n",
        "#               TPred+       TPred-\n",
        "#\n",
        "# FN = falsely predicted negative\n",
        "# FP = falsely predicted positive\n",
        "# 0 is negative, 1 is positive\n",
        "###############################################\n",
        "\n",
        "# TP = confusion[1,1] # true positive \n",
        "# TN = confusion[0,0] # true negatives\n",
        "# FP = confusion[0,1] # false positives\n",
        "# FN = confusion[1,0] # false negatives\n",
        "\n",
        "cm = metrics.confusion_matrix(y_test, y_predicted)\n",
        "print(cm)\n",
        "\n",
        "# Calculating the accuracy\n",
        "acc_score = metrics.accuracy_score(y_test, y_predicted)\n",
        "print(\"Accuracy: \", round(acc_score, 3))\n",
        "print(\"Precision: \", round(metrics.precision_score(y_test, y_predicted), 3))\n",
        "print(\"Sensitivity or recall using function:\", round(metrics.recall_score(y_test, y_predicted), 3))\n",
        "\n",
        "# sensitivity = TP/(TP + FN)\n",
        "sensitivity = cm[1,1]/(cm[1,1]+cm[1,0])\n",
        "print('Sensitivity or recall using confusion matrix: ', round(sensitivity, 3))\n",
        "\n",
        "# specificity = TN/(TN + FP)\n",
        "specificity = cm[0,0]/(cm[0,0]+cm[0,1])\n",
        "print('Specificity using confusion matrix: ', round(specificity, 3))\n",
        "\n",
        "# Printing the misclassified values from prediction\n",
        "print('Misclassified samples: %d' % (y_test != y_predicted).sum())"
      ],
      "execution_count": 10,
      "outputs": [
        {
          "output_type": "stream",
          "name": "stdout",
          "text": [
            "0.22.2.post1\n",
            "y_train shape: (8048,)\n",
            "x_train shape: (8048, 7)\n",
            "Classes predicted:  [0 1]\n",
            "Total predictions:  3450\n",
            "Actual count of As=0 [0,2]:  2326 | As=1 [1,2]:  1124\n",
            "Predicted count of As=0 [2,0]:  2642 | As=0 [2,1]:  808\n",
            "[[2064  262]\n",
            " [ 578  546]]\n",
            "Accuracy:  0.757\n",
            "Precision:  0.676\n",
            "Sensitivity or recall using function: 0.486\n",
            "Sensitivity or recall using confusion matrix:  0.486\n",
            "Specificity using confusion matrix:  0.887\n",
            "Misclassified samples: 840\n"
          ]
        }
      ]
    },
    {
      "cell_type": "code",
      "metadata": {
        "colab": {
          "base_uri": "https://localhost:8080/",
          "height": 427
        },
        "id": "ZOizYVHUI2FT",
        "outputId": "680a8dd0-9768-422e-98a3-efaf36df1b5b"
      },
      "source": [
        "# =============================================================================\n",
        "# ROC curve\n",
        "# =============================================================================\n",
        "\n",
        "# predict probabilities of each X_test\n",
        "y_pred_prob = SVM_Classifier.predict_proba(x_test)\n",
        "\n",
        "fpr1, tpr1, thresh1 = roc_curve(y_test, y_pred_prob[:,1], pos_label=1)\n",
        "\n",
        "# roc curve for tpr = fpr \n",
        "random_probs = [0 for i in range(len(y_test))]\n",
        "p_fpr, p_tpr, _ = roc_curve(y_test, random_probs, pos_label=1)\n",
        "\n",
        "# auc scores\n",
        "auc_score = roc_auc_score(y_test, y_pred_prob[:,1])\n",
        "print('AUC score for SVM classifier: ', round(auc_score, 3))\n",
        "\n",
        "plt.style.use('seaborn')\n",
        "\n",
        "# plot roc curves\n",
        "plt.plot(fpr1, tpr1, linestyle='--',color='orange', label='SVM classifier')\n",
        "plt.plot(p_fpr, p_tpr, linestyle='--', color='blue')\n",
        "# title\n",
        "plt.title('ROC curve for SVM classifier')\n",
        "# x label\n",
        "plt.xlabel('False Positive Rate')\n",
        "# y label\n",
        "plt.ylabel('True Positive rate')\n",
        "\n",
        "plt.legend(loc='best')\n",
        "plt.savefig(dataset_path + 'ROC_SVM_classifier', dpi=300)\n",
        "plt.show();\n",
        "\n",
        "# =============================================================================\n",
        "# Specificity, sensitivity, and accuracy curve\n",
        "# =============================================================================\n",
        "\n",
        "numbers = [float(x)/100 for x in range(100)]\n",
        "#print(numbers)\n",
        "y_predicted_at_cutoffs = []\n",
        "\n",
        "#x = np.array(y_pred_prob)\n",
        "#print('Unique probabilities:', np.unique(x))\n",
        "\n",
        "for irow in range(len(y_pred_prob)):\n",
        "  v = [x_test[irow,4], y_test[irow], round(y_pred_prob[irow,0] , 3), y_predicted[irow]]\n",
        "  for cutof_prob in numbers:\n",
        "    if (y_pred_prob[irow, 0] > cutof_prob): # non-arsenic\n",
        "      v.append(0)\n",
        "    else:\n",
        "      v.append(1)\n",
        "  y_predicted_at_cutoffs.append(v)\n",
        "\n",
        "#print(\"y_predicted_at_cutoffs:\", y_predicted_at_cutoffs)\n",
        "\n",
        "# How many 0 and 1 using cuttof of 0.5?\n",
        "class0, class1 = 0, 0\n",
        "for irow in range(len(y_pred_prob)):\n",
        "  if (y_pred_prob[irow,0] > 0.5):\n",
        "    class0 += 1\n",
        "  else:\n",
        "    class1 += 1\n",
        "print(\"Verification check: At 0.5 cutoff, predicted Class0 (No Arsenic): \" + str(class0) + \" Class1 (Arsenic):\" + str(class1))\n",
        "\n",
        "#print(pred_prob_y)\n",
        "print(y_predicted)\n"
      ],
      "execution_count": 12,
      "outputs": [
        {
          "output_type": "stream",
          "name": "stdout",
          "text": [
            "AUC score for SVM classifier:  0.772\n"
          ]
        },
        {
          "output_type": "display_data",
          "data": {
            "image/png": "[encoded data removed]",
            "text/plain": [
              "<Figure size 576x396 with 1 Axes>"
            ]
          },
          "metadata": {}
        },
        {
          "output_type": "stream",
          "name": "stdout",
          "text": [
            "Verification check: At 0.5 cutoff, predicted Class0 (No Arsenic): 2652 Class1 (Arsenic):798\n",
            "[0 0 1 ... 0 0 1]\n"
          ]
        }
      ]
    },
    {
      "cell_type": "code",
      "metadata": {
        "colab": {
          "base_uri": "https://localhost:8080/",
          "height": 767
        },
        "id": "92K1gNsFKIQZ",
        "outputId": "d8796591-a84f-4f74-e284-c352608562fe"
      },
      "source": [
        "y_predicted_at_cutoffs_df = pd.DataFrame(y_predicted_at_cutoffs, columns = ['Average','y_test','y_pred_prob','y_predicted'] + numbers)\n",
        "#print(y_predicted_at_cutoffs_df.head(150))\n",
        "\n",
        "cutoff_df = pd.DataFrame( columns = ['Probability','Accuracy','Sensitivity','Specificity'])\n",
        "\n",
        "for icols in numbers:\n",
        "    cm1 = metrics.confusion_matrix(y_predicted_at_cutoffs_df['y_test'], y_predicted_at_cutoffs_df[icols])\n",
        "    total1 = sum(sum(cm1))\n",
        "    accuracy = (cm1[0,0]+cm1[1,1])/total1\n",
        "    specificity = cm1[0,0]/(cm1[0,0]+cm1[0,1])\n",
        "    sensitivity = cm1[1,1]/(cm1[1,0]+cm1[1,1])\n",
        "    cutoff_df.loc[icols] =[icols, accuracy, sensitivity, specificity]\n",
        "    \n",
        "    # calculate the cutoff, and the accuracy, senstivity,and specificity at the cutoff.    \n",
        "    if (icols == 0.77):\n",
        "      print('Intersection point: i, Specificity/Senstivity/Accuracy:', icols, round(specificity, 3), round(sensitivity, 3), round(accuracy, 3))\n",
        "    if (icols == 0.5):\n",
        "      print('Verification step: i, Specificity/Senstivity/Accuracy:', icols, round(specificity, 3), round(sensitivity, 3), round(accuracy, 3))\n",
        "\n",
        "# gca stands for 'get current axis'\n",
        "plt.title('Specificity, sensitivity, and specificity curve for SVM classifier')\n",
        "\n",
        "ax = plt.gca()\n",
        "\n",
        "cutoff_df.plot(kind='line',x='Probability',y='Accuracy', color='blue', ax=ax)\n",
        "cutoff_df.plot(kind='line',x='Probability',y='Sensitivity', color='red', ax=ax)\n",
        "cutoff_df.plot(kind='line',x='Probability',y='Specificity', color='green', ax=ax)\n",
        "\n",
        "plt.savefig(dataset_path + 'SAS_SVM_classifier', dpi=300)\n",
        "plt.show()\n",
        "\n",
        "print(cutoff_df.iloc[60:80,:])\n"
      ],
      "execution_count": 14,
      "outputs": [
        {
          "output_type": "stream",
          "name": "stdout",
          "text": [
            "Verification step: i, Specificity/Senstivity/Accuracy: 0.5 0.889 0.48 0.756\n",
            "Intersection point: i, Specificity/Senstivity/Accuracy: 0.77 0.696 0.686 0.693\n"
          ]
        },
        {
          "output_type": "display_data",
          "data": {
            "image/png": "[encoded data removed]",
            "text/plain": [
              "<Figure size 576x396 with 1 Axes>"
            ]
          },
          "metadata": {}
        },
        {
          "output_type": "stream",
          "name": "stdout",
          "text": [
            "      Probability  Accuracy  Sensitivity  Specificity\n",
            "0.60         0.60  0.752754     0.524911     0.862855\n",
            "0.61         0.61  0.755072     0.535587     0.861135\n",
            "0.62         0.62  0.754203     0.539146     0.858126\n",
            "0.63         0.63  0.755072     0.544484     0.856836\n",
            "0.64         0.64  0.754493     0.550712     0.852966\n",
            "0.65         0.65  0.751594     0.556940     0.845658\n",
            "0.66         0.66  0.746667     0.562278     0.835770\n",
            "0.67         0.67  0.747246     0.573843     0.831040\n",
            "0.68         0.68  0.746087     0.584520     0.824162\n",
            "0.69         0.69  0.745797     0.588968     0.821582\n",
            "0.70         0.70  0.743768     0.598754     0.813844\n",
            "0.71         0.71  0.740580     0.602313     0.807395\n",
            "0.72         0.72  0.739420     0.605872     0.803955\n",
            "0.73         0.73  0.733623     0.612100     0.792347\n",
            "0.74         0.74  0.729275     0.618327     0.782889\n",
            "0.75         0.75  0.705217     0.640569     0.736457\n",
            "0.76         0.76  0.697391     0.668149     0.711522\n",
            "0.77         0.77  0.692754     0.685943     0.696045\n",
            "0.78         0.78  0.689855     0.708185     0.680997\n",
            "0.79         0.79  0.680870     0.731317     0.656492\n"
          ]
        }
      ]
    }
  ]
}